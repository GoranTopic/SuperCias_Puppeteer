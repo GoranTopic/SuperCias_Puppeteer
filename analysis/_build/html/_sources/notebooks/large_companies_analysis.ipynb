{
 "cells": [
  {
   "cell_type": "markdown",
   "metadata": {},
   "source": [
    "# Large company Analysis"
   ]
  },
  {
   "cell_type": "markdown",
   "metadata": {},
   "source": [
    "Import the csv fromt he donwloads folder of the Supercias website"
   ]
  },
  {
   "cell_type": "code",
   "execution_count": 16,
   "metadata": {},
   "outputs": [
    {
     "name": "stdout",
     "output_type": "stream",
     "text": [
      "found: 13437\n"
     ]
    }
   ],
   "source": [
    "from pymongo import MongoClient\n",
    "import pandas as pd\n",
    "\n",
    "\n",
    "endpoint = '0.0.0.0:27017'\n",
    "database = 'supercias'\n",
    "collection = 'balances'\n",
    "\n",
    "# Connect to MongoDB\n",
    "db = MongoClient('mongodb://'+endpoint)[database]\n",
    "collection = db[collection]\n",
    "\n",
    "# Query the collection\n",
    "pdf_queried = collection.find()\n",
    "\n",
    "print('found:', len(list(pdf_queried)))\n",
    "\n",
    "# make a df from mongo find\n",
    "df = pd.DataFrame()\n",
    "\n",
    "# for every entry add a row into the df\n",
    "#for entry in collection.find():\n",
    "    # make a new df\n",
    "#    df = df.append(pd.DataFrame(entry, index=[0]), ignore_index=True)\n"
   ]
  }
 ],
 "metadata": {
  "kernelspec": {
   "display_name": "Python 3",
   "language": "python",
   "name": "python3"
  },
  "language_info": {
   "codemirror_mode": {
    "name": "ipython",
    "version": 3
   },
   "file_extension": ".py",
   "mimetype": "text/x-python",
   "name": "python",
   "nbconvert_exporter": "python",
   "pygments_lexer": "ipython3",
   "version": "3.12.4"
  }
 },
 "nbformat": 4,
 "nbformat_minor": 2
}
