{
 "cells": [
  {
   "cell_type": "markdown",
   "id": "fb037365",
   "metadata": {},
   "source": [
    "# jupyter notbook Gui functions\n",
    "Here we will defin the functions to query a user on the mongodb database"
   ]
  },
  {
   "cell_type": "markdown",
   "id": "aef115f1",
   "metadata": {},
   "source": []
  },
  {
   "cell_type": "code",
   "execution_count": 1,
   "id": "d5aee10a",
   "metadata": {},
   "outputs": [
    {
     "name": "stdout",
     "output_type": "stream",
     "text": [
      "PERALTA CARDENAS RIGOBERTO NECTARIO\n"
     ]
    }
   ],
   "source": [
    "from pymongo import MongoClient\n",
    "\n",
    "endpoint = '10.0.10.5:27017'\n",
    "database = 'supercias'\n",
    "collection = 'consulta_personal'\n",
    "\n",
    "# Connect to MongoDB\n",
    "db = MongoClient('mongodb://'+endpoint)[database]\n",
    "collection = db[collection]\n",
    "\n",
    "#find one\n",
    "entry = collection.find_one()\n",
    "\n",
    "entry = entry['nombre']\n",
    "\n",
    "print(entry)\n",
    "\n"
   ]
  },
  {
   "cell_type": "code",
   "execution_count": 2,
   "id": "b16f5e8b",
   "metadata": {},
   "outputs": [
    {
     "data": {
      "application/vnd.jupyter.widget-view+json": {
       "model_id": "cc6259805114448f8225aacfb6e1ca6b",
       "version_major": 2,
       "version_minor": 0
      },
      "text/plain": [
       "Tab(children=(Accordion(children=(Label(value='workig version'), Label(value='workig version')), titles=('Dato…"
      ]
     },
     "metadata": {},
     "output_type": "display_data"
    }
   ],
   "source": [
    "import ipywidgets as widgets\n",
    "from IPython.display import display\n",
    "\n",
    "def Tab_widget(widget_list=[widgets.Text(description='Nombre:')], title_list=('Datos Personales',)):\n",
    "    # if title_list is a list make into a tuple\n",
    "    if type(title_list) == list:\n",
    "        title_list = tuple(title_list)\n",
    "    tab = widgets.Tab()\n",
    "    tab.children = widget_list\n",
    "    tab.titles = title_list\n",
    "    return tab\n",
    "\n",
    "def Accordion_widget(widget_list=[widgets.Text(description='Nombre:')], title_list=('Datos Personales',)):\n",
    "    accordion = widgets.Accordion()\n",
    "    accordion.children = widget_list\n",
    "    accordion.titles = title_list\n",
    "    return accordion\n",
    "\n",
    "def Label_widget(text):\n",
    "    label = widgets.Label(value=text)\n",
    "    return label\n",
    "\n",
    "label = Label_widget('workig version')\n",
    "label2 = Label_widget('workig version')\n",
    "accordion = Accordion_widget([label, label2], ('Datos Personales', 'Datos Laborales'))\n",
    "accordion2 = Accordion_widget([label, label2], ('Datos Personales', 'Datos Laborales'))\n",
    "tab = Tab_widget([accordion, accordion2], ('accordion1', 'accordion2'))\n",
    "display(tab)"
   ]
  },
  {
   "cell_type": "markdown",
   "id": "8e721b5b",
   "metadata": {},
   "source": [
    "## Searchbar"
   ]
  },
  {
   "cell_type": "code",
   "execution_count": 3,
   "id": "f0ee1ed8",
   "metadata": {},
   "outputs": [
    {
     "name": "stdout",
     "output_type": "stream",
     "text": [
      "found: 1\n",
      "CHIANG GUERRERO LUIS DANIEL\n",
      "0918588328\n",
      "administrador_actual:\n",
      "{'Expediente': '313553', 'Nombre': 'CHIANG S.A.', 'Ruc': '0993190063001', 'Nacionalidad': 'ECUADOR', 'Cargo': 'GERENTE GENERAL', 'Fecha Nombramiento': '2020-07-14', 'Fecha Termino': '', 'Periodo': '5', 'Fecha Registro Mercantil': '2020-07-23', 'Artículo': '6', 'N° Registro Mercantil': '8605', 'RL/ADM': 'RL'}\n",
      "accionista_actual:\n",
      "{'Expediente': '300731', 'Nombre': 'INELECOMP S.A.', 'Ruc': '0992902612001', 'Capital Invertido': '400.0', 'Capital Total Cía.': '800', 'Valor Nominal': '1.0', 'Situación Legal': 'CANC. DE INSCRIPCION ANOTADA EN RM', 'Posesión Efectiva': '31355'}\n",
      "{'Expediente': '313553', 'Nombre': 'CHIANG S.A.', 'Ruc': '0993190063001', 'Capital Invertido': '792.0', 'Capital Total Cía.': '800', 'Valor Nominal': '1.0', 'Situación Legal': 'ACTIVA', 'Posesión Efectiva': ''}\n",
      "administradores_anteriores:\n",
      "{'Expediente': '313553', 'Nombre': 'CHIANG S.A.', 'Ruc': '0993190063001', 'Nacionalidad': 'ECUADOR', 'Cargo': 'GERENTE GENERAL', 'Fecha Nombramiento': '2019-04-01', 'Fecha Termino': '2020-07-14', 'Periodo': '2', 'Fecha Registro Mercantil': '2019-04-03', 'Artículo': '6', 'N° Registro Mercantil': '4237', 'RL/ADM': 'RL'}\n",
      "{'Expediente': '300731', 'Nombre': 'INELECOMP S.A.', 'Ruc': '0992902612001', 'Nacionalidad': 'ECUADOR', 'Cargo': 'PRESIDENTE', 'Fecha Nombramiento': '2015-02-12', 'Fecha Termino': '', 'Periodo': '5', 'Fecha Registro Mercantil': '2015-02-18', 'Artículo': '6', 'N° Registro Mercantil': '1970', 'RL/ADM': 'SRL'}\n",
      "-------------------\n"
     ]
    }
   ],
   "source": [
    "def query_person(nombre, id):\n",
    "    # query the person\n",
    "    query= collection.find({\n",
    "        'nombre': { '$regex': '.*'+nombre+'.*', '$options': 'i' },\n",
    "        'cedula': { '$regex': '.*'+id+'.*', '$options': 'i' }\n",
    "        })\n",
    "\n",
    "    # print how many files were found\n",
    "    # this will exahust the cursor\n",
    "    print('found:', len(list(query)))\n",
    "\n",
    "    # reset the cursor \n",
    "    query = collection.find({\n",
    "        'nombre': { '$regex': '.*'+nombre+'.*', '$options': 'i' },\n",
    "        'cedula': { '$regex': '.*'+id+'.*', '$options': 'i' }\n",
    "        })\n",
    "\n",
    "    results = []\n",
    "    # make a dataframe with the results\n",
    "    for record in query:\n",
    "        results.append(record)\n",
    "        print(record['nombre'])\n",
    "        print(record['cedula'])\n",
    "\n",
    "        if(record['administrador_actual']):\n",
    "            print('administrador_actual:')\n",
    "            for admin in record['administrador_actual']:\n",
    "                print(admin)\n",
    "        if(record['accionista_actual']):\n",
    "            print('accionista_actual:')\n",
    "            for accionista in record['accionista_actual']:\n",
    "                print(accionista)\n",
    "\n",
    "        if(record['administradores_anteriores']):\n",
    "            print('administradores_anteriores:')\n",
    "            for admin in record['administradores_anteriores']:\n",
    "                print(admin)\n",
    "\n",
    "        if(record['accionista_extrajeras']):\n",
    "            print('accionista_extrajeras:')\n",
    "            for accionista in record['accionista_extrajeras']:\n",
    "                print(accionista)\n",
    "        \n",
    "        print('-------------------')\n",
    "    return results\n",
    "\n",
    "# formated with all caps\n",
    "nombre = ''\n",
    "id = '0918588328'\n",
    "query = query_person(nombre, id)\n",
    "\n"
   ]
  },
  {
   "cell_type": "code",
   "execution_count": 40,
   "id": "34b675f5",
   "metadata": {},
   "outputs": [
    {
     "data": {
      "application/vnd.jupyter.widget-view+json": {
       "model_id": "b4ca4ad6834f4f50bcc6b0bd971d4368",
       "version_major": 2,
       "version_minor": 0
      },
      "text/plain": [
       "Tab(children=(Accordion(children=(Label(value='{\\n    \"Expediente\": \"313553\",\\n    \"Nombre\": \"CHIANG S.A.\",\\n …"
      ]
     },
     "metadata": {},
     "output_type": "display_data"
    }
   ],
   "source": [
    "import ipywidgets as widgets\n",
    "from IPython.display import display\n",
    "import json\n",
    "\n",
    "def Tab_widget(widget_list=[widgets.Text(description='Nombre:')], title_list=('Datos Personales',)):\n",
    "    # make into a tuple\n",
    "    if type(title_list) == list:\n",
    "        title_list = tuple(title_list)\n",
    "    tab = widgets.Tab()\n",
    "    tab.children = widget_list\n",
    "    tab.titles = title_list\n",
    "    return tab\n",
    "\n",
    "def Accordion_widget(widget_list=[widgets.Text(description='Nombre:')], title_list=('Datos Personales',)):\n",
    "    # make into a tuple\n",
    "    if type(title_list) == list:\n",
    "        title_list = tuple(title_list)\n",
    "    accordion = widgets.Accordion()\n",
    "    accordion.children = widget_list\n",
    "    accordion.titles = title_list\n",
    "    return accordion\n",
    "\n",
    "def Label_widget(text):\n",
    "    label = widgets.Label(value=text)\n",
    "    return label\n",
    "\n",
    "def format_output(output):\n",
    "    # print key in the dictionary make a label\n",
    "    keys_level_1 = list(output.keys())\n",
    "    # if there is an _id key remove it\n",
    "    if '_id' in keys_level_1:\n",
    "        keys_level_1.remove('_id')\n",
    "    # make into a \n",
    "    widgets_level_2 = []\n",
    "    for key in keys_level_1:\n",
    "        if type(output[key]) == str:\n",
    "            # make a widget string\n",
    "            widgets_level_2.append(Label_widget(key))\n",
    "        else: # make a accordion widget\n",
    "            if type(output[key]) == list:\n",
    "                # convert list to dic\n",
    "                output[key] = {i: value for i, value in enumerate(output[key])}\n",
    "            keys_level_2 = [str(key) for key in list(output[key].keys())]\n",
    "            # stringfy the dictionary\n",
    "            labels = [Label_widget(json.dumps(output[key][key_l2],indent=4)) for key_l2 in output[key].keys()]\n",
    "            accordion = Accordion_widget(labels, keys_level_2)\n",
    "            widgets_level_2.append(accordion)\n",
    "    tab = Tab_widget(widgets_level_2, keys_level_1)\n",
    "    # now for each key inside the\n",
    "\n",
    "    display(tab)\n",
    "    # make each key into a tab widget\n",
    "\n",
    "\n",
    "# get the first result\n",
    "record = query[0]\n",
    "format_output(record)"
   ]
  },
  {
   "cell_type": "code",
   "execution_count": 5,
   "id": "bbab3ff2",
   "metadata": {},
   "outputs": [],
   "source": [
    "import ipywidgets as widgets\n",
    "from IPython.display import display, clear_output\n",
    "\n",
    "def SearchBar(search_function):\n",
    "    # Create a text input widget\n",
    "    cedula_input = widgets.Text(\n",
    "        value='',\n",
    "        placeholder='cedula',\n",
    "        description='Cedula:',\n",
    "        disabled=False\n",
    "    )\n",
    "    # Create a text input widget\n",
    "    nombre_input = widgets.Text(\n",
    "        value='',\n",
    "        placeholder='nombre',\n",
    "        description='Nombre:',\n",
    "        disabled=False\n",
    "    )\n",
    "    # Create a button widget\n",
    "    button = widgets.Button(\n",
    "        description='Submit',\n",
    "        disabled=False,\n",
    "        button_style='',\n",
    "        tooltip='Click me',\n",
    "        icon='check'\n",
    "    )\n",
    "    # Function to handle button click\n",
    "    def on_button_click(b):\n",
    "        # Clear previous output\n",
    "        clear_output(wait=True)\n",
    "        \n",
    "        # Display the input widgets and button again\n",
    "        display(input_and_button)\n",
    "        # retrieve the values from the input widgets\n",
    "        cedula = cedula_input.value\n",
    "        nombre = nombre_input.value\n",
    "        # query the person\n",
    "        search_function(nombre, cedula)\n",
    "\n",
    "\n",
    "    # Attach the function to the button click event\n",
    "    button.on_click(on_button_click)\n",
    "\n",
    "    # Display text input and button together using HBox\n",
    "    input_and_button = widgets.HBox([cedula_input, nombre_input, button])\n",
    "    display(input_and_button)"
   ]
  },
  {
   "cell_type": "code",
   "execution_count": 6,
   "id": "4dfa947d",
   "metadata": {},
   "outputs": [
    {
     "data": {
      "application/vnd.jupyter.widget-view+json": {
       "model_id": "2c00acdab3024bc5a82b046c61631a4c",
       "version_major": 2,
       "version_minor": 0
      },
      "text/plain": [
       "HBox(children=(Text(value='0916576796', description='Cedula:', placeholder='cedula'), Text(value='', descripti…"
      ]
     },
     "metadata": {},
     "output_type": "display_data"
    },
    {
     "name": "stdout",
     "output_type": "stream",
     "text": [
      "found: 1\n",
      "TOPIC VERDUGA GORAN ANDJELKO\n",
      "0916576796\n",
      "-------------------\n"
     ]
    }
   ],
   "source": [
    "SearchBar(query_person)"
   ]
  }
 ],
 "metadata": {
  "kernelspec": {
   "display_name": "Python 3 (ipykernel)",
   "language": "python",
   "name": "python3"
  },
  "language_info": {
   "codemirror_mode": {
    "name": "ipython",
    "version": 3
   },
   "file_extension": ".py",
   "mimetype": "text/x-python",
   "name": "python",
   "nbconvert_exporter": "python",
   "pygments_lexer": "ipython3",
   "version": "3.12.4"
  }
 },
 "nbformat": 4,
 "nbformat_minor": 5
}
