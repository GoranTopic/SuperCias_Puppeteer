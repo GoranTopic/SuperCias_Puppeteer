{
 "cells": [
  {
   "cell_type": "markdown",
   "id": "fb037365",
   "metadata": {},
   "source": [
    "# Clean and process CNE data\n",
    "This script will connect to the mongodb and query the database by person"
   ]
  },
  {
   "cell_type": "code",
   "execution_count": 6,
   "id": "d5aee10a",
   "metadata": {},
   "outputs": [],
   "source": [
    "from pymongo import MongoClient\n",
    "import pandas as pd\n",
    "\n",
    "endpoint = '10.0.10.5:27017'\n",
    "database = 'CNE'\n",
    "# define the databse\n",
    "db = MongoClient('mongodb://'+endpoint)[database]"
   ]
  },
  {
   "cell_type": "markdown",
   "id": "5c25dbfb",
   "metadata": {},
   "source": [
    "read the df from the mongodb"
   ]
  },
  {
   "cell_type": "code",
   "execution_count": 7,
   "id": "e56b9b51",
   "metadata": {},
   "outputs": [
    {
     "data": {
      "text/html": [
       "<div>\n",
       "<style scoped>\n",
       "    .dataframe tbody tr th:only-of-type {\n",
       "        vertical-align: middle;\n",
       "    }\n",
       "\n",
       "    .dataframe tbody tr th {\n",
       "        vertical-align: top;\n",
       "    }\n",
       "\n",
       "    .dataframe thead th {\n",
       "        text-align: right;\n",
       "    }\n",
       "</style>\n",
       "<table border=\"1\" class=\"dataframe\">\n",
       "  <thead>\n",
       "    <tr style=\"text-align: right;\">\n",
       "      <th></th>\n",
       "      <th>_id</th>\n",
       "      <th>nombre</th>\n",
       "      <th>recinto</th>\n",
       "      <th>junta</th>\n",
       "      <th>direccion</th>\n",
       "      <th>provincia</th>\n",
       "      <th>canton</th>\n",
       "      <th>parroquia</th>\n",
       "      <th>zona</th>\n",
       "      <th>cedula</th>\n",
       "      <th>error</th>\n",
       "    </tr>\n",
       "  </thead>\n",
       "  <tbody>\n",
       "    <tr>\n",
       "      <th>0</th>\n",
       "      <td>66c35e46bf2d128454bd3811</td>\n",
       "      <td>VIZCAINO RON GIOMARA BELEN</td>\n",
       "      <td>Cancha Deportiva de Uso Multiple Profesor Juli...</td>\n",
       "      <td>NaN</td>\n",
       "      <td>NaN</td>\n",
       "      <td>NaN</td>\n",
       "      <td>NaN</td>\n",
       "      <td>NaN</td>\n",
       "      <td>NaN</td>\n",
       "      <td>2000106852</td>\n",
       "      <td>NaN</td>\n",
       "    </tr>\n",
       "    <tr>\n",
       "      <th>1</th>\n",
       "      <td>66c35e46bf2d128454bd3812</td>\n",
       "      <td>MASAQUIZA MASAQUIZA NELLY MICHELLE</td>\n",
       "      <td>Unidad Educativa Galo Plaza Lasso</td>\n",
       "      <td>NaN</td>\n",
       "      <td>NaN</td>\n",
       "      <td>NaN</td>\n",
       "      <td>NaN</td>\n",
       "      <td>NaN</td>\n",
       "      <td>NaN</td>\n",
       "      <td>2000154142</td>\n",
       "      <td>NaN</td>\n",
       "    </tr>\n",
       "    <tr>\n",
       "      <th>2</th>\n",
       "      <td>66c35e46bf2d128454bd3813</td>\n",
       "      <td>ROBALINO CARLOS EDUARDO</td>\n",
       "      <td>Unidad Educativa Fiscomisional SAn Francisco d...</td>\n",
       "      <td>NaN</td>\n",
       "      <td>NaN</td>\n",
       "      <td>NaN</td>\n",
       "      <td>NaN</td>\n",
       "      <td>NaN</td>\n",
       "      <td>NaN</td>\n",
       "      <td>2000020608</td>\n",
       "      <td>NaN</td>\n",
       "    </tr>\n",
       "    <tr>\n",
       "      <th>3</th>\n",
       "      <td>66c35e46bf2d128454bd3814</td>\n",
       "      <td>MORA SERRANO EDISON DANIEL</td>\n",
       "      <td>Coliseo San Cristóbal</td>\n",
       "      <td>NaN</td>\n",
       "      <td>NaN</td>\n",
       "      <td>NaN</td>\n",
       "      <td>NaN</td>\n",
       "      <td>NaN</td>\n",
       "      <td>NaN</td>\n",
       "      <td>2000012738</td>\n",
       "      <td>NaN</td>\n",
       "    </tr>\n",
       "    <tr>\n",
       "      <th>4</th>\n",
       "      <td>66c35e46bf2d128454bd3815</td>\n",
       "      <td>JUMBO CAMACHO JENIXER JOMAYRA</td>\n",
       "      <td>Unidad Educativa Fiscomisional San Cristóbal /...</td>\n",
       "      <td>NaN</td>\n",
       "      <td>NaN</td>\n",
       "      <td>NaN</td>\n",
       "      <td>NaN</td>\n",
       "      <td>NaN</td>\n",
       "      <td>NaN</td>\n",
       "      <td>2000080446</td>\n",
       "      <td>NaN</td>\n",
       "    </tr>\n",
       "  </tbody>\n",
       "</table>\n",
       "</div>"
      ],
      "text/plain": [
       "                        _id                              nombre  \\\n",
       "0  66c35e46bf2d128454bd3811          VIZCAINO RON GIOMARA BELEN   \n",
       "1  66c35e46bf2d128454bd3812  MASAQUIZA MASAQUIZA NELLY MICHELLE   \n",
       "2  66c35e46bf2d128454bd3813             ROBALINO CARLOS EDUARDO   \n",
       "3  66c35e46bf2d128454bd3814          MORA SERRANO EDISON DANIEL   \n",
       "4  66c35e46bf2d128454bd3815       JUMBO CAMACHO JENIXER JOMAYRA   \n",
       "\n",
       "                                             recinto  junta  direccion  \\\n",
       "0  Cancha Deportiva de Uso Multiple Profesor Juli...    NaN        NaN   \n",
       "1                  Unidad Educativa Galo Plaza Lasso    NaN        NaN   \n",
       "2  Unidad Educativa Fiscomisional SAn Francisco d...    NaN        NaN   \n",
       "3                              Coliseo San Cristóbal    NaN        NaN   \n",
       "4  Unidad Educativa Fiscomisional San Cristóbal /...    NaN        NaN   \n",
       "\n",
       "   provincia  canton  parroquia  zona      cedula error  \n",
       "0        NaN     NaN        NaN   NaN  2000106852   NaN  \n",
       "1        NaN     NaN        NaN   NaN  2000154142   NaN  \n",
       "2        NaN     NaN        NaN   NaN  2000020608   NaN  \n",
       "3        NaN     NaN        NaN   NaN  2000012738   NaN  \n",
       "4        NaN     NaN        NaN   NaN  2000080446   NaN  "
      ]
     },
     "execution_count": 7,
     "metadata": {},
     "output_type": "execute_result"
    }
   ],
   "source": [
    "# Connect to MongoDB\n",
    "cne_collection= db['cne']\n",
    "# make a df from the collection\n",
    "df = pd.DataFrame(list(cne_collection.find()))\n",
    "df.head()"
   ]
  },
  {
   "cell_type": "code",
   "execution_count": 10,
   "id": "19e64e47",
   "metadata": {},
   "outputs": [
    {
     "name": "stdout",
     "output_type": "stream",
     "text": [
      "(14323191, 11)\n"
     ]
    }
   ],
   "source": [
    "# get the number of values that are repated in cedulas\n",
    "#print(df['cedula'].value_counts())\n",
    "\n",
    "# remove all duplicates with the cedula value\n",
    "df = df.drop_duplicates(subset='cedula', keep='first')\n",
    "\n",
    "print(df.shape)\n"
   ]
  },
  {
   "cell_type": "code",
   "execution_count": null,
   "id": "8237ccfc",
   "metadata": {},
   "outputs": [],
   "source": [
    "# write df to mongodb\n",
    "collection = 'cne_unique'\n",
    "\n",
    "db[collection].insert_many(df.to_dict('records'))"
   ]
  }
 ],
 "metadata": {
  "kernelspec": {
   "display_name": "Python 3 (ipykernel)",
   "language": "python",
   "name": "python3"
  },
  "language_info": {
   "codemirror_mode": {
    "name": "ipython",
    "version": 3
   },
   "file_extension": ".py",
   "mimetype": "text/x-python",
   "name": "python",
   "nbconvert_exporter": "python",
   "pygments_lexer": "ipython3",
   "version": "3.12.4"
  }
 },
 "nbformat": 4,
 "nbformat_minor": 5
}
