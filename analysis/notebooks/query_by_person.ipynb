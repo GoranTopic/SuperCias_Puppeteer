{
 "cells": [
  {
   "cell_type": "markdown",
   "id": "fb037365",
   "metadata": {},
   "source": [
    "# Combine cosulta personales con balances financieros\n",
    "This script will connect to the mongodb and query the database by person"
   ]
  },
  {
   "cell_type": "code",
   "execution_count": 1,
   "id": "d5aee10a",
   "metadata": {},
   "outputs": [
    {
     "name": "stdout",
     "output_type": "stream",
     "text": [
      "PERALTA CARDENAS RIGOBERTO NECTARIO\n"
     ]
    }
   ],
   "source": [
    "from pymongo import MongoClient\n",
    "\n",
    "endpoint = '10.0.10.5:27017'\n",
    "database = 'supercias'\n",
    "collection = 'consulta_personal'\n",
    "\n",
    "# Connect to MongoDB\n",
    "db = MongoClient('mongodb://'+endpoint)[database]\n",
    "collection = db[collection]\n",
    "\n",
    "#find one\n",
    "entry = collection.find_one()\n",
    "\n",
    "entry = entry['nombre']\n",
    "\n",
    "print(entry)\n",
    "\n"
   ]
  },
  {
   "cell_type": "markdown",
   "id": "8e721b5b",
   "metadata": {},
   "source": [
    "## Query persona personal"
   ]
  },
  {
   "cell_type": "code",
   "execution_count": 2,
   "id": "f0ee1ed8",
   "metadata": {},
   "outputs": [
    {
     "name": "stdout",
     "output_type": "stream",
     "text": [
      "found: 1\n",
      "CHIANG GUERRERO LUIS DANIEL\n",
      "0918588328\n",
      "administrador_actual:\n",
      "{'Expediente': '313553', 'Nombre': 'CHIANG S.A.', 'Ruc': '0993190063001', 'Nacionalidad': 'ECUADOR', 'Cargo': 'GERENTE GENERAL', 'Fecha Nombramiento': '2020-07-14', 'Fecha Termino': '', 'Periodo': '5', 'Fecha Registro Mercantil': '2020-07-23', 'Artículo': '6', 'N° Registro Mercantil': '8605', 'RL/ADM': 'RL'}\n",
      "accionista_actual:\n",
      "{'Expediente': '300731', 'Nombre': 'INELECOMP S.A.', 'Ruc': '0992902612001', 'Capital Invertido': '400.0', 'Capital Total Cía.': '800', 'Valor Nominal': '1.0', 'Situación Legal': 'CANC. DE INSCRIPCION ANOTADA EN RM', 'Posesión Efectiva': '31355'}\n",
      "{'Expediente': '313553', 'Nombre': 'CHIANG S.A.', 'Ruc': '0993190063001', 'Capital Invertido': '792.0', 'Capital Total Cía.': '800', 'Valor Nominal': '1.0', 'Situación Legal': 'ACTIVA', 'Posesión Efectiva': ''}\n",
      "administradores_anteriores:\n",
      "{'Expediente': '313553', 'Nombre': 'CHIANG S.A.', 'Ruc': '0993190063001', 'Nacionalidad': 'ECUADOR', 'Cargo': 'GERENTE GENERAL', 'Fecha Nombramiento': '2019-04-01', 'Fecha Termino': '2020-07-14', 'Periodo': '2', 'Fecha Registro Mercantil': '2019-04-03', 'Artículo': '6', 'N° Registro Mercantil': '4237', 'RL/ADM': 'RL'}\n",
      "{'Expediente': '300731', 'Nombre': 'INELECOMP S.A.', 'Ruc': '0992902612001', 'Nacionalidad': 'ECUADOR', 'Cargo': 'PRESIDENTE', 'Fecha Nombramiento': '2015-02-12', 'Fecha Termino': '', 'Periodo': '5', 'Fecha Registro Mercantil': '2015-02-18', 'Artículo': '6', 'N° Registro Mercantil': '1970', 'RL/ADM': 'SRL'}\n",
      "-------------------\n"
     ]
    }
   ],
   "source": [
    "def query_person(nombre, id):\n",
    "    # query the person\n",
    "    pdf_queried = collection.find({\n",
    "        'nombre': { '$regex': '.*'+nombre+'.*', '$options': 'i' },\n",
    "        'cedula': { '$regex': '.*'+id+'.*', '$options': 'i' }\n",
    "        })\n",
    "\n",
    "    # print how many files were found\n",
    "    # this will exahust the cursor\n",
    "    print('found:', len(list(pdf_queried)))\n",
    "\n",
    "    # reset the cursor \n",
    "    pdf_queried = collection.find({\n",
    "        'nombre': { '$regex': '.*'+nombre+'.*', '$options': 'i' },\n",
    "        'cedula': { '$regex': '.*'+id+'.*', '$options': 'i' }\n",
    "        })\n",
    "\n",
    "    # make a dataframe with the results\n",
    "    for pdf_query in pdf_queried:\n",
    "        print(pdf_query['nombre'])\n",
    "        print(pdf_query['cedula'])\n",
    "\n",
    "        if(pdf_query['administrador_actual']):\n",
    "            print('administrador_actual:')\n",
    "            for admin in pdf_query['administrador_actual']:\n",
    "                print(admin)\n",
    "        if(pdf_query['accionista_actual']):\n",
    "            print('accionista_actual:')\n",
    "            for accionista in pdf_query['accionista_actual']:\n",
    "                print(accionista)\n",
    "\n",
    "        if(pdf_query['administradores_anteriores']):\n",
    "            print('administradores_anteriores:')\n",
    "            for admin in pdf_query['administradores_anteriores']:\n",
    "                print(admin)\n",
    "\n",
    "        if(pdf_query['accionista_extrajeras']):\n",
    "            print('accionista_extrajeras:')\n",
    "            for accionista in pdf_query['accionista_extrajeras']:\n",
    "                print(accionista)\n",
    "        \n",
    "        print('-------------------')\n",
    "\n",
    "# formated with all caps\n",
    "nombre = ''\n",
    "id = '0918588328'\n",
    "query_person(nombre, id)\n",
    "\n"
   ]
  },
  {
   "cell_type": "code",
   "execution_count": 4,
   "id": "bbab3ff2",
   "metadata": {},
   "outputs": [
    {
     "data": {
      "application/vnd.jupyter.widget-view+json": {
       "model_id": "d8b688678f5744fa890e405805f6b487",
       "version_major": 2,
       "version_minor": 0
      },
      "text/plain": [
       "HBox(children=(Text(value='0916576796', description='Cedula:', placeholder='cedula'), Text(value='', descripti…"
      ]
     },
     "metadata": {},
     "output_type": "display_data"
    },
    {
     "name": "stdout",
     "output_type": "stream",
     "text": [
      "found: 1\n",
      "TOPIC VERDUGA GORAN ANDJELKO\n",
      "0916576796\n",
      "-------------------\n"
     ]
    }
   ],
   "source": [
    "import ipywidgets as widgets\n",
    "from IPython.display import display, clear_output\n",
    "\n",
    "# Create a text input widget\n",
    "cedula_input = widgets.Text(\n",
    "    value='',\n",
    "    placeholder='cedula',\n",
    "    description='Cedula:',\n",
    "    disabled=False\n",
    ")\n",
    "\n",
    "# Create a text input widget\n",
    "nombre_input = widgets.Text(\n",
    "    value='',\n",
    "    placeholder='nombre',\n",
    "    description='Nombre:',\n",
    "    disabled=False\n",
    ")\n",
    "\n",
    "# Create a button widget\n",
    "button = widgets.Button(\n",
    "    description='Submit',\n",
    "    disabled=False,\n",
    "    button_style='',\n",
    "    tooltip='Click me',\n",
    "    icon='check'\n",
    ")\n",
    "\n",
    "# Function to handle button click\n",
    "def on_button_click(b):\n",
    "    # Clear previous output\n",
    "    clear_output(wait=True)\n",
    "    \n",
    "    # Display the input widgets and button again\n",
    "    display(input_and_button)\n",
    "    # retrieve the values from the input widgets\n",
    "    cedula = cedula_input.value\n",
    "    nombre = nombre_input.value\n",
    "    # query the person\n",
    "    query_person(nombre, cedula)\n",
    "\n",
    "# Attach the function to the button click event\n",
    "button.on_click(on_button_click)\n",
    "\n",
    "# Display text input and button together using HBox\n",
    "input_and_button = widgets.HBox([cedula_input, nombre_input, button])\n",
    "display(input_and_button)"
   ]
  }
 ],
 "metadata": {
  "kernelspec": {
   "display_name": "Python 3 (ipykernel)",
   "language": "python",
   "name": "python3"
  },
  "language_info": {
   "codemirror_mode": {
    "name": "ipython",
    "version": 3
   },
   "file_extension": ".py",
   "mimetype": "text/x-python",
   "name": "python",
   "nbconvert_exporter": "python",
   "pygments_lexer": "ipython3",
   "version": "3.12.4"
  }
 },
 "nbformat": 4,
 "nbformat_minor": 5
}
