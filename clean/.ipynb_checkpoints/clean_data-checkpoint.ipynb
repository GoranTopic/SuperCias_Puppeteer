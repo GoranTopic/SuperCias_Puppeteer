{
 "cells": [
  {
   "cell_type": "code",
   "execution_count": 2,
   "id": "10de7449-4016-44e8-ad2d-7903acae95ff",
   "metadata": {},
   "outputs": [],
   "source": [
    "# import pandas\n",
    "import pandas as pd"
   ]
  },
  {
   "cell_type": "code",
   "execution_count": 7,
   "id": "a176a764-82c7-47b6-8eeb-26c5dd501d15",
   "metadata": {},
   "outputs": [
    {
     "name": "stdout",
     "output_type": "stream",
     "text": [
      "                        _id     cedula       fecha_de_nacimiento\n",
      "0  661431c887e5a73e68473361  100163500  1935-02-15T00:00:00.000Z\n",
      "1  661431c887e5a73e68473362  100163534  1942-11-30T00:00:00.000Z\n",
      "2  661431c887e5a73e68473363  100163567  1942-04-05T00:00:00.000Z\n",
      "3  661431c887e5a73e68473364  100163575  1941-05-26T00:00:00.000Z\n",
      "4  661431c887e5a73e68473365  100163617  1947-06-13T00:00:00.000Z\n"
     ]
    }
   ],
   "source": [
    "# read file from csvf from all cedulas\n",
    "df_all_cedulas = pd.read_csv('../storage/csvs/Registro-Civil.cedulas.csv')\n",
    "# print head \n",
    "print(df_all_cedulas.head())"
   ]
  },
  {
   "cell_type": "code",
   "execution_count": 10,
   "id": "32e9a54b-8de2-4e21-a0d5-8d827c8f6136",
   "metadata": {},
   "outputs": [
    {
     "name": "stdout",
     "output_type": "stream",
     "text": [
      "                        _id     cedula  suggestion[0][0] suggestion[0][1]  \\\n",
      "0  661984fb662d7276e89f03f6  100163500               NaN              NaN   \n",
      "1  661984fb662d7276e89f03f7  100163534               NaN              NaN   \n",
      "2  661984fc662d7276e89f03f8  100163567               NaN              NaN   \n",
      "3  661984fd662d7276e89f03f9  100163575               NaN              NaN   \n",
      "4  661984fd662d7276e89f03fa  100163542               NaN              NaN   \n",
      "\n",
      "  suggestion[1][0] suggestion[1][1] suggestion[1][2]  \n",
      "0              NaN              NaN              NaN  \n",
      "1              NaN              NaN              NaN  \n",
      "2              NaN              NaN              NaN  \n",
      "3              NaN              NaN              NaN  \n",
      "4              NaN              NaN              NaN  \n"
     ]
    }
   ],
   "source": [
    "# read the file from CSV from the suggestions\n",
    "df_suggestions = pd.read_csv('../storage/csvs/supercias.consultas_personal_suggestion.csv', low_memory=False)\n",
    "\n",
    "# print head \n",
    "print(df_suggestions.head())"
   ]
  },
  {
   "cell_type": "code",
   "execution_count": null,
   "id": "2ad28dcf-2711-4884-87b9-23e9fa3c9d84",
   "metadata": {},
   "outputs": [],
   "source": []
  }
 ],
 "metadata": {
  "kernelspec": {
   "display_name": "Python 3 (ipykernel)",
   "language": "python",
   "name": "python3"
  },
  "language_info": {
   "codemirror_mode": {
    "name": "ipython",
    "version": 3
   },
   "file_extension": ".py",
   "mimetype": "text/x-python",
   "name": "python",
   "nbconvert_exporter": "python",
   "pygments_lexer": "ipython3",
   "version": "3.12.1"
  }
 },
 "nbformat": 4,
 "nbformat_minor": 5
}
