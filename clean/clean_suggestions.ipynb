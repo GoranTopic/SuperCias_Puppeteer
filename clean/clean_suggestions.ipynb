{
 "cells": [
  {
   "cell_type": "code",
   "execution_count": 74,
   "id": "10de7449-4016-44e8-ad2d-7903acae95ff",
   "metadata": {},
   "outputs": [],
   "source": [
    "# import pandas\n",
    "import pandas as pd\n",
    "# import numpy\n",
    "import numpy as np"
   ]
  },
  {
   "cell_type": "code",
   "execution_count": 2,
   "id": "a176a764-82c7-47b6-8eeb-26c5dd501d15",
   "metadata": {},
   "outputs": [
    {
     "name": "stdout",
     "output_type": "stream",
     "text": [
      "                        _id     cedula       fecha_de_nacimiento\n",
      "0  661431c887e5a73e68473361  100163500  1935-02-15T00:00:00.000Z\n",
      "1  661431c887e5a73e68473362  100163534  1942-11-30T00:00:00.000Z\n",
      "2  661431c887e5a73e68473363  100163567  1942-04-05T00:00:00.000Z\n",
      "3  661431c887e5a73e68473364  100163575  1941-05-26T00:00:00.000Z\n",
      "4  661431c887e5a73e68473365  100163617  1947-06-13T00:00:00.000Z\n"
     ]
    }
   ],
   "source": [
    "# read file from csvf from all cedulas\n",
    "df_all_cedulas = pd.read_csv('../storage/csvs/Registro-Civil.cedulas.csv')\n",
    "# print head \n",
    "print(df_all_cedulas.head())\n"
   ]
  },
  {
   "cell_type": "code",
   "execution_count": 63,
   "id": "32e9a54b-8de2-4e21-a0d5-8d827c8f6136",
   "metadata": {},
   "outputs": [
    {
     "name": "stdout",
     "output_type": "stream",
     "text": [
      "                        _id     cedula  suggestion[0][0] suggestion[0][1]  \\\n",
      "0  661984fb662d7276e89f03f6  100163500               NaN              NaN   \n",
      "1  661984fb662d7276e89f03f7  100163534               NaN              NaN   \n",
      "2  661984fc662d7276e89f03f8  100163567               NaN              NaN   \n",
      "3  661984fd662d7276e89f03f9  100163575               NaN              NaN   \n",
      "4  661984fd662d7276e89f03fa  100163542               NaN              NaN   \n",
      "\n",
      "  suggestion[1][0] suggestion[1][1] suggestion[1][2]  \n",
      "0              NaN              NaN              NaN  \n",
      "1              NaN              NaN              NaN  \n",
      "2              NaN              NaN              NaN  \n",
      "3              NaN              NaN              NaN  \n",
      "4              NaN              NaN              NaN  \n"
     ]
    }
   ],
   "source": [
    "# read the file from CSV from the suggestions\n",
    "df_suggestions = pd.read_csv('../storage/csvs/supercias.consultas_personal_suggestion.csv', low_memory=False)\n",
    "\n",
    "# print head \n",
    "print(df_suggestions.head())"
   ]
  },
  {
   "cell_type": "code",
   "execution_count": 64,
   "id": "2ad28dcf-2711-4884-87b9-23e9fa3c9d84",
   "metadata": {},
   "outputs": [
    {
     "name": "stdout",
     "output_type": "stream",
     "text": [
      "      cedula  suggestion[0][0] suggestion[0][1] suggestion[1][0]  \\\n",
      "0  100163500               NaN              NaN              NaN   \n",
      "1  100163534               NaN              NaN              NaN   \n",
      "2  100163567               NaN              NaN              NaN   \n",
      "3  100163575               NaN              NaN              NaN   \n",
      "4  100163542               NaN              NaN              NaN   \n",
      "\n",
      "  suggestion[1][1] suggestion[1][2]  \n",
      "0              NaN              NaN  \n",
      "1              NaN              NaN  \n",
      "2              NaN              NaN  \n",
      "3              NaN              NaN  \n",
      "4              NaN              NaN  \n"
     ]
    }
   ],
   "source": [
    "df_suggestions = df_suggestions.drop('_id', axis=1)\n",
    "# print head\n",
    "print(df_suggestions.head())\n"
   ]
  },
  {
   "cell_type": "code",
   "execution_count": 94,
   "metadata": {},
   "outputs": [
    {
     "name": "stdout",
     "output_type": "stream",
     "text": [
      "has frist suggestions\n",
      "(94438, 6)\n",
      "has second suggestions\n",
      "(236, 6)\n",
      "has any suggestions\n",
      "(94438, 6)\n",
      "has both of the the one that have any suggestions\n",
      "(235, 6)\n",
      "the frist suggestions is the same as the second suggestions\n",
      "(184, 6)\n",
      "get rows that are NaN\n",
      "(2022767, 6)\n",
      "the frist suggestions is not the same as the second suggestions\n",
      "(51, 6)\n"
     ]
    }
   ],
   "source": [
    "# get the rows from the suggestion[0][0] column which is not NaN    \n",
    "# print columns\n",
    "# has frist suggestions \n",
    "print('has frist suggestions')\n",
    "print(df_suggestions.loc[~df_suggestions['suggestion[0][1]'].isnull()].shape)\n",
    "# has second suggestions\n",
    "print('has second suggestions')\n",
    "print(df_suggestions.loc[~df_suggestions['suggestion[1][0]'].isnull()].shape)\n",
    "# has any suggestions\n",
    "print('has any suggestions')\n",
    "any_df = df_suggestions.loc[~df_suggestions['suggestion[0][1]'].isnull() | ~df_suggestions['suggestion[1][1]'].isnull()]\n",
    "print(any_df.shape)\n",
    "# has both of the the one that have any suggestions\n",
    "print('has both of the the one that have any suggestions')\n",
    "both_df = any_df.loc[~any_df['suggestion[0][1]'].isnull() & ~any_df['suggestion[1][1]'].isnull()]\n",
    "print(both_df.shape)\n",
    "# print columns the frist suggestions is the same as the second suggestions\n",
    "print('the frist suggestions is the same as the second suggestions')\n",
    "print(df_suggestions.loc[df_suggestions['suggestion[0][1]'] == df_suggestions['suggestion[1][1]']].shape)\n",
    "# print columns the frist suggestions is not the same as the second suggestions\n",
    "print('get rows that are NaN')\n",
    "print(df_suggestions.loc[df_suggestions['suggestion[0][1]'].isnull() & df_suggestions['suggestion[1][1]'].isnull()].shape)\n",
    "# print columns the frist suggestions is not the same as the second suggestions\n",
    "print('the frist suggestions is not the same as the second suggestions')\n",
    "print(both_df.loc[both_df['suggestion[0][1]'] != both_df['suggestion[1][1]']].shape)\n",
    "# this are ususlay the same person with difrent spelling of their names for some reason\n",
    "#print(both_df.loc[both_df['suggestion[0][1]'] != both_df['suggestion[1][1]']].head())\n"
   ]
  },
  {
   "cell_type": "code",
   "execution_count": 117,
   "metadata": {},
   "outputs": [
    {
     "name": "stdout",
     "output_type": "stream",
     "text": [
      "       cedula                               nombre\n",
      "9   100164433  PERALTA CARDENAS RIGOBERTO NECTARIO\n",
      "12  100164359         LAZO PERALTA ERNESTO MARCELO\n",
      "32  100225887    UZHCA GUAMAN MANUEL JESUS GONZALO\n",
      "42  100125970               GARCIA SINCHE LEOPOLDO\n",
      "43  100221720         SARI SEGOVIA OSWALDO IGNACIO\n",
      "(49612, 2)\n"
     ]
    }
   ],
   "source": [
    "# get the first suggestion colum\n",
    "first_suggestion_df = df_suggestions.loc[~df_suggestions['suggestion[0][1]'].isnull()]\n",
    "# drop the other columns \n",
    "first_suggestion_df = first_suggestion_df[['cedula', 'suggestion[0][1]']]\n",
    "# change the column name suggestion[0][1] to suggestion\n",
    "first_suggestion_df.columns = ['cedula', 'nombre']\n",
    "# get the seccond suggestion colum\n",
    "second_suggestion_df = df_suggestions.loc[~df_suggestions['suggestion[1][1]'].isnull()]\n",
    "# drop the other columns\n",
    "second_suggestion_df = second_suggestion_df[['cedula', 'suggestion[1][1]']]\n",
    "# change the column name suggestion[1][1] to suggestion\n",
    "second_suggestion_df.columns = ['cedula', 'nombre']\n",
    "# merge the two dataframes with the cedula column ans the suggestion column\n",
    "# the merged df should have only one suggestion column with the cedula column\n",
    "# if there are duplicates of the same cedula the suggestion which is longer should be the one that is kept\n",
    "merged_df = pd.concat([first_suggestion_df, second_suggestion_df]).drop_duplicates(subset='cedula', keep='last')\n",
    "# remove duplicates of the same cedula into the same suggestion column\n",
    "merged_df = merged_df.drop_duplicates(subset='cedula')\n",
    "# print head\n",
    "print(merged_df.head())\n",
    "# print shape\n",
    "print(merged_df.shape)"
   ]
  },
  {
   "cell_type": "code",
   "execution_count": 128,
   "metadata": {},
   "outputs": [
    {
     "name": "stdout",
     "output_type": "stream",
     "text": [
      "All queried cedulas: 2117205\n",
      "Number of cedulas which we got: 49612\n",
      "Percentage: 2.34 %\n"
     ]
    }
   ],
   "source": [
    "# Compare the number of rows\n",
    "num_rows_all_suggestions = df_suggestions.shape[0]\n",
    "num_rows_merged_df = merged_df.shape[0]\n",
    "\n",
    "# Print the comparison\n",
    "print(\"All queried cedulas:\", num_rows_all_suggestions)\n",
    "print(\"Number of cedulas which we got:\", num_rows_merged_df)\n",
    "\n",
    "# Calculate the percentage of the rows that are in the merged_df\n",
    "percentage = (num_rows_merged_df / num_rows_all_suggestions * 100)\n",
    "print(\"Percentage:\", round(percentage, 2), \"%\")\n"
   ]
  },
  {
   "cell_type": "code",
   "execution_count": 130,
   "metadata": {},
   "outputs": [],
   "source": [
    "from pymongo import MongoClient\n",
    "\n",
    "# Connect to MongoDB\n",
    "client = MongoClient('localhost', 27017)\n",
    "\n",
    "# Access the supercias database\n",
    "db = client['supercias']\n",
    "\n",
    "# Access the suggestions_01 collection\n",
    "collection = db['suggestions_01']\n",
    "\n",
    "# Convert the dataframe to a list of dictionaries\n",
    "data = merged_df.to_dict(orient='records')\n",
    "\n",
    "# Insert the data into the collection\n",
    "collection.insert_many(data)\n",
    "\n",
    "# Close the MongoDB connection\n",
    "client.close()\n"
   ]
  }
 ],
 "metadata": {
  "kernelspec": {
   "display_name": "Python 3 (ipykernel)",
   "language": "python",
   "name": "python3"
  },
  "language_info": {
   "codemirror_mode": {
    "name": "ipython",
    "version": 3
   },
   "file_extension": ".py",
   "mimetype": "text/x-python",
   "name": "python",
   "nbconvert_exporter": "python",
   "pygments_lexer": "ipython3",
   "version": "3.12.2"
  }
 },
 "nbformat": 4,
 "nbformat_minor": 5
}
