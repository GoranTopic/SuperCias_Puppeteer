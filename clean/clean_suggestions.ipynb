{
 "cells": [
  {
   "cell_type": "code",
   "execution_count": 12,
   "id": "10de7449-4016-44e8-ad2d-7903acae95ff",
   "metadata": {},
   "outputs": [],
   "source": [
    "# import pandas\n",
    "import pandas as pd\n",
    "# import numpy\n",
    "import numpy as np"
   ]
  },
  {
   "cell_type": "code",
   "execution_count": 13,
   "id": "32e9a54b-8de2-4e21-a0d5-8d827c8f6136",
   "metadata": {},
   "outputs": [
    {
     "name": "stdout",
     "output_type": "stream",
     "text": [
      "                        _id         cedula                            nombre\n",
      "0  66204621873b7dc9fe57f284  0993291498001                  S150 SOLE S.A.S.\n",
      "1  66204622873b7dc9fe57f293     1718591322  SANTANDER LONDOÑO KAROL STEPHANY\n",
      "2  66204622873b7dc9fe57f294     1312599549       GARCIA SORNOZA DIEGO XAVIER\n",
      "3  66204622873b7dc9fe57f297     1150488607     MASA CHUQUI JHULISSA PATRICIA\n",
      "4  66204622873b7dc9fe57f298     1719517839   LLERENA FLORES CRISTIAN ROBERTO\n"
     ]
    }
   ],
   "source": [
    "# read the file from CSV from the suggestions, read cedula as string\n",
    "df_suggestions = pd.read_csv('../storage/CSVs/supercias.consultas_personal_suggestion.csv', low_memory=False, dtype={'cedula': str})\n",
    "\n",
    "# print head \n",
    "print(df_suggestions.head())"
   ]
  },
  {
   "cell_type": "code",
   "execution_count": 14,
   "id": "2ad28dcf-2711-4884-87b9-23e9fa3c9d84",
   "metadata": {},
   "outputs": [
    {
     "name": "stdout",
     "output_type": "stream",
     "text": [
      "          cedula                            nombre\n",
      "0  0993291498001                  S150 SOLE S.A.S.\n",
      "1     1718591322  SANTANDER LONDOÑO KAROL STEPHANY\n",
      "2     1312599549       GARCIA SORNOZA DIEGO XAVIER\n",
      "3     1150488607     MASA CHUQUI JHULISSA PATRICIA\n",
      "4     1719517839   LLERENA FLORES CRISTIAN ROBERTO\n"
     ]
    }
   ],
   "source": [
    "df_suggestions = df_suggestions.drop('_id', axis=1)\n",
    "# print head\n",
    "print(df_suggestions.head())\n"
   ]
  },
  {
   "cell_type": "code",
   "execution_count": 15,
   "metadata": {},
   "outputs": [
    {
     "name": "stdout",
     "output_type": "stream",
     "text": [
      "with cedula\n",
      "          cedula                            nombre\n",
      "0  0993291498001                  S150 SOLE S.A.S.\n",
      "1     1718591322  SANTANDER LONDOÑO KAROL STEPHANY\n",
      "2     1312599549       GARCIA SORNOZA DIEGO XAVIER\n",
      "3     1150488607     MASA CHUQUI JHULISSA PATRICIA\n",
      "4     1719517839   LLERENA FLORES CRISTIAN ROBERTO\n",
      "(6054008, 2)\n",
      "without cedula\n",
      "        cedula                            nombre\n",
      "1734688    NaN                  S150 SOLE S.A.S.\n",
      "1734689    NaN                     GANE-INC S.A.\n",
      "1734690    NaN               PAZMIÑO RIVAS PEDRO\n",
      "1734691    NaN                     CARTOTUB S.A.\n",
      "1734692    NaN  SANTANDER LONDOÑO KAROL STEPHANY\n",
      "(1711965, 2)\n"
     ]
    }
   ],
   "source": [
    "# sperate the data set beteween the ones that have a cedula and the ones that don't\n",
    "df_suggestions_with_cedula = df_suggestions[df_suggestions['cedula'].notnull()]\n",
    "df_suggestions_without_cedula = df_suggestions[df_suggestions['cedula'].isnull()]\n",
    "print('with cedula')\n",
    "print(df_suggestions_with_cedula.head())\n",
    "print(df_suggestions_with_cedula.shape)\n",
    "print('without cedula')\n",
    "print(df_suggestions_without_cedula.head())\n",
    "print(df_suggestions_without_cedula.shape)"
   ]
  },
  {
   "cell_type": "code",
   "execution_count": 16,
   "metadata": {},
   "outputs": [
    {
     "name": "stdout",
     "output_type": "stream",
     "text": [
      "with cedula\n",
      "          cedula                            nombre\n",
      "0  0993291498001                  S150 SOLE S.A.S.\n",
      "1     1718591322  SANTANDER LONDOÑO KAROL STEPHANY\n",
      "2     1312599549       GARCIA SORNOZA DIEGO XAVIER\n",
      "3     1150488607     MASA CHUQUI JHULISSA PATRICIA\n",
      "4     1719517839   LLERENA FLORES CRISTIAN ROBERTO\n",
      "(931958, 2)\n",
      "without cedula\n",
      "        cedula                            nombre\n",
      "1734688    NaN                  S150 SOLE S.A.S.\n",
      "1734689    NaN                     GANE-INC S.A.\n",
      "1734690    NaN               PAZMIÑO RIVAS PEDRO\n",
      "1734691    NaN                     CARTOTUB S.A.\n",
      "1734692    NaN  SANTANDER LONDOÑO KAROL STEPHANY\n",
      "(415433, 2)\n"
     ]
    }
   ],
   "source": [
    "# remove any duplicates in both data sets\n",
    "# for the ones with cedula remove duplicate based on cedula\n",
    "df_suggestions_with_cedula = df_suggestions_with_cedula.drop_duplicates(subset='cedula')\n",
    "print('with cedula')\n",
    "print(df_suggestions_with_cedula.head())\n",
    "print(df_suggestions_with_cedula.shape)\n",
    "# for the ones without cedula remove duplicate based on nombre column\n",
    "df_suggestions_without_cedula = df_suggestions_without_cedula.drop_duplicates(subset='nombre')\n",
    "print('without cedula')\n",
    "print(df_suggestions_without_cedula.head())\n",
    "print(df_suggestions_without_cedula.shape)  \n"
   ]
  },
  {
   "cell_type": "code",
   "execution_count": 17,
   "metadata": {},
   "outputs": [
    {
     "name": "stdout",
     "output_type": "stream",
     "text": [
      "without cedula\n",
      "        cedula                                  nombre\n",
      "1734768    NaN                       DIMITRY FALKOVICH\n",
      "1734772    NaN   BEATRIZ JUDIT ANTONIA BALLA DE FABBRI\n",
      "1734773    NaN  BEATRIZ JUDIT ANTONIA BALLA DE FABBRI.\n",
      "1734833    NaN           BARREIRO GAMBOA JAIME EDUARDO\n",
      "1734849    NaN               CALLE PINO KETTY VICTORIA\n",
      "(183536, 2)\n"
     ]
    }
   ],
   "source": [
    "# remove row from without cedula that are in with cedulas\n",
    "df_suggestions_without_cedula = df_suggestions_without_cedula[~df_suggestions_without_cedula['nombre'].isin(df_suggestions_with_cedula['nombre'])]\n",
    "print('without cedula')\n",
    "print(df_suggestions_without_cedula.head())\n",
    "print(df_suggestions_without_cedula.shape)"
   ]
  },
  {
   "cell_type": "code",
   "execution_count": 18,
   "metadata": {},
   "outputs": [
    {
     "name": "stdout",
     "output_type": "stream",
     "text": [
      "          cedula                            nombre\n",
      "0  0993291498001                  S150 SOLE S.A.S.\n",
      "1     1718591322  SANTANDER LONDOÑO KAROL STEPHANY\n",
      "2     1312599549       GARCIA SORNOZA DIEGO XAVIER\n",
      "3     1150488607     MASA CHUQUI JHULISSA PATRICIA\n",
      "4     1719517839   LLERENA FLORES CRISTIAN ROBERTO\n",
      "(1115494, 2)\n"
     ]
    }
   ],
   "source": [
    "# join the two data sets again\n",
    "df_suggestions = pd.concat([df_suggestions_with_cedula, df_suggestions_without_cedula])\n",
    "print(df_suggestions.head())\n",
    "print(df_suggestions.shape)"
   ]
  },
  {
   "cell_type": "code",
   "execution_count": 20,
   "metadata": {},
   "outputs": [
    {
     "ename": "TypeError",
     "evalue": "'Collection' object is not callable. If you meant to call the 'insert' method on a 'Collection' object it is failing because no such method exists.",
     "output_type": "error",
     "traceback": [
      "\u001b[0;31m---------------------------------------------------------------------------\u001b[0m",
      "\u001b[0;31mTypeError\u001b[0m                                 Traceback (most recent call last)",
      "\u001b[1;32m/home/terac/data-mining/supercias/clean/clean_suggestions.ipynb Cell 8\u001b[0m line \u001b[0;36m1\n\u001b[1;32m     <a href='vscode-notebook-cell:/home/terac/data-mining/supercias/clean/clean_suggestions.ipynb#W6sZmlsZQ%3D%3D?line=11'>12</a>\u001b[0m data \u001b[39m=\u001b[39m df_suggestions\u001b[39m.\u001b[39mto_dict(orient\u001b[39m=\u001b[39m\u001b[39m'\u001b[39m\u001b[39mrecords\u001b[39m\u001b[39m'\u001b[39m)\n\u001b[1;32m     <a href='vscode-notebook-cell:/home/terac/data-mining/supercias/clean/clean_suggestions.ipynb#W6sZmlsZQ%3D%3D?line=12'>13</a>\u001b[0m \u001b[39m# insert the new data\u001b[39;00m\n\u001b[0;32m---> <a href='vscode-notebook-cell:/home/terac/data-mining/supercias/clean/clean_suggestions.ipynb#W6sZmlsZQ%3D%3D?line=13'>14</a>\u001b[0m collection\u001b[39m.\u001b[39;49minsert(data)\n",
      "File \u001b[0;32m~/.local/lib/python3.12/site-packages/pymongo/collection.py:3507\u001b[0m, in \u001b[0;36mCollection.__call__\u001b[0;34m(self, *args, **kwargs)\u001b[0m\n\u001b[1;32m   3500\u001b[0m \u001b[39mif\u001b[39;00m \u001b[39m\"\u001b[39m\u001b[39m.\u001b[39m\u001b[39m\"\u001b[39m \u001b[39mnot\u001b[39;00m \u001b[39min\u001b[39;00m \u001b[39mself\u001b[39m\u001b[39m.\u001b[39m__name:\n\u001b[1;32m   3501\u001b[0m     \u001b[39mraise\u001b[39;00m \u001b[39mTypeError\u001b[39;00m(\n\u001b[1;32m   3502\u001b[0m         \u001b[39m\"\u001b[39m\u001b[39m'\u001b[39m\u001b[39mCollection\u001b[39m\u001b[39m'\u001b[39m\u001b[39m object is not callable. If you \u001b[39m\u001b[39m\"\u001b[39m\n\u001b[1;32m   3503\u001b[0m         \u001b[39m\"\u001b[39m\u001b[39mmeant to call the \u001b[39m\u001b[39m'\u001b[39m\u001b[39m%s\u001b[39;00m\u001b[39m'\u001b[39m\u001b[39m method on a \u001b[39m\u001b[39m'\u001b[39m\u001b[39mDatabase\u001b[39m\u001b[39m'\u001b[39m\u001b[39m \u001b[39m\u001b[39m\"\u001b[39m\n\u001b[1;32m   3504\u001b[0m         \u001b[39m\"\u001b[39m\u001b[39mobject it is failing because no such method \u001b[39m\u001b[39m\"\u001b[39m\n\u001b[1;32m   3505\u001b[0m         \u001b[39m\"\u001b[39m\u001b[39mexists.\u001b[39m\u001b[39m\"\u001b[39m \u001b[39m%\u001b[39m \u001b[39mself\u001b[39m\u001b[39m.\u001b[39m__name\n\u001b[1;32m   3506\u001b[0m     )\n\u001b[0;32m-> 3507\u001b[0m \u001b[39mraise\u001b[39;00m \u001b[39mTypeError\u001b[39;00m(\n\u001b[1;32m   3508\u001b[0m     \u001b[39m\"\u001b[39m\u001b[39m'\u001b[39m\u001b[39mCollection\u001b[39m\u001b[39m'\u001b[39m\u001b[39m object is not callable. If you meant to \u001b[39m\u001b[39m\"\u001b[39m\n\u001b[1;32m   3509\u001b[0m     \u001b[39m\"\u001b[39m\u001b[39mcall the \u001b[39m\u001b[39m'\u001b[39m\u001b[39m%s\u001b[39;00m\u001b[39m'\u001b[39m\u001b[39m method on a \u001b[39m\u001b[39m'\u001b[39m\u001b[39mCollection\u001b[39m\u001b[39m'\u001b[39m\u001b[39m object it is \u001b[39m\u001b[39m\"\u001b[39m\n\u001b[1;32m   3510\u001b[0m     \u001b[39m\"\u001b[39m\u001b[39mfailing because no such method exists.\u001b[39m\u001b[39m\"\u001b[39m \u001b[39m%\u001b[39m \u001b[39mself\u001b[39m\u001b[39m.\u001b[39m__name\u001b[39m.\u001b[39msplit(\u001b[39m\"\u001b[39m\u001b[39m.\u001b[39m\u001b[39m\"\u001b[39m)[\u001b[39m-\u001b[39m\u001b[39m1\u001b[39m]\n\u001b[1;32m   3511\u001b[0m )\n",
      "\u001b[0;31mTypeError\u001b[0m: 'Collection' object is not callable. If you meant to call the 'insert' method on a 'Collection' object it is failing because no such method exists."
     ]
    }
   ],
   "source": [
    "# put it back into the mongo db\n",
    "# import the mongo client\n",
    "import pymongo\n",
    "from pymongo import MongoClient\n",
    "# connect to the client\n",
    "client = MongoClient('localhost', 27017)\n",
    "# connect to the database\n",
    "db = client['supercias']\n",
    "# connect to the collection\n",
    "collection = db['consultas_personal_suggestion_cleaned']\n",
    "# convert the data frame to dictionary\n",
    "data = df_suggestions.to_dict(orient='records')\n",
    "# insert the new data\n",
    "collection.insert(data)\n",
    "\n",
    "\n",
    "\n"
   ]
  }
 ],
 "metadata": {
  "kernelspec": {
   "display_name": "Python 3 (ipykernel)",
   "language": "python",
   "name": "python3"
  },
  "language_info": {
   "codemirror_mode": {
    "name": "ipython",
    "version": 3
   },
   "file_extension": ".py",
   "mimetype": "text/x-python",
   "name": "python",
   "nbconvert_exporter": "python",
   "pygments_lexer": "ipython3",
   "version": "3.12.2"
  }
 },
 "nbformat": 4,
 "nbformat_minor": 5
}
