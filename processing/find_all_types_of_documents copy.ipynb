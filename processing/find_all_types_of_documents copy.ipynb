{
 "cells": [
  {
   "cell_type": "markdown",
   "id": "fb037365",
   "metadata": {},
   "source": [
    "# Find all the types of documents posible in supercias\n",
    "### We need to define how many types documents and their frequency in supercias"
   ]
  },
  {
   "cell_type": "code",
   "execution_count": 1,
   "id": "d5aee10a",
   "metadata": {},
   "outputs": [
    {
     "name": "stdout",
     "output_type": "stream",
     "text": [
      "Requirement already satisfied: python-dotenv in /home/terac/.local/share/virtualenvs/terac-sYctsPSc/lib/python3.12/site-packages (1.0.1)\n",
      "\n",
      "\u001b[1m[\u001b[0m\u001b[34;49mnotice\u001b[0m\u001b[1;39;49m]\u001b[0m\u001b[39;49m A new release of pip is available: \u001b[0m\u001b[31;49m23.2.1\u001b[0m\u001b[39;49m -> \u001b[0m\u001b[32;49m24.2\u001b[0m\n",
      "\u001b[1m[\u001b[0m\u001b[34;49mnotice\u001b[0m\u001b[1;39;49m]\u001b[0m\u001b[39;49m To update, run: \u001b[0m\u001b[32;49mpip install --upgrade pip\u001b[0m\n"
     ]
    }
   ],
   "source": [
    "packages = ['pymongo', 'gridfs', 'pandas', 'pymupdf', 'pytesseract', 'pdf2image', 'openai', 'python-dotenv']\n",
    "for package in packages:\n",
    "    try:\n",
    "        __import__(package)\n",
    "    except ImportError:\n",
    "        !pip install {package}\n",
    "\n",
    "import os\n",
    "from pymongo import MongoClient\n",
    "import pandas as pd\n",
    "from functions.pdf_operations import PDFOperations\n",
    "from functions.prompt_openai import query_openai\n",
    "# endpoint = '10.0.10.5:27017' # use vpn\n",
    "endpoint = '192.168.1.10:27017'\n",
    "#endpoint = '192.168.229.55:27017'\n",
    "database = 'supercias'\n",
    "collection = 'clean_companies'\n",
    "# Connect to MongoDB\n",
    "db = MongoClient('mongodb://'+endpoint)[database]\n",
    "# get collection\n",
    "collection = db[collection]\n",
    "# where the pdfs will be stored \n",
    "pdfs_path = '../storage/pdfs/'\n",
    "# pdf operator\n",
    "pdf_op = PDFOperations(db, 'companies', pdfs_path)\n",
    "#find pdf file\n",
    "companies_cursor = collection.find()"
   ]
  },
  {
   "cell_type": "markdown",
   "id": "15301b81",
   "metadata": {},
   "source": [
    "Let seperate the docuemt by the type they can belong to: Generales, Economicos  and Judiciales"
   ]
  },
  {
   "cell_type": "code",
   "execution_count": 3,
   "id": "39b041fd",
   "metadata": {},
   "outputs": [],
   "source": [
    "# now lets get all the documents for every company\n",
    "companies = collection.find()\n",
    "Documentos_generales = []\n",
    "Documentos_economicos = []\n",
    "Documentos_juridicos = []\n",
    "\n",
    "for company in companies:\n",
    "    # get the Documentos online\n",
    "    documentos = company['Documentos']\n",
    "    for documento in documentos['Generales']:\n",
    "        Documentos_generales.append(documento)\n",
    "    for documento in documentos['Economicos']:\n",
    "        Documentos_economicos.append(documento)\n",
    "    for documento in documentos['Juridicos']:\n",
    "        Documentos_juridicos.append(documento)"
   ]
  },
  {
   "cell_type": "markdown",
   "id": "8e2ff5c4",
   "metadata": {},
   "source": [
    "Get all of the difrent kind of documentos generales into a df"
   ]
  },
  {
   "cell_type": "code",
   "execution_count": 4,
   "id": "bf1bde3e",
   "metadata": {},
   "outputs": [
    {
     "data": {
      "text/html": [
       "<div>\n",
       "<style scoped>\n",
       "    .dataframe tbody tr th:only-of-type {\n",
       "        vertical-align: middle;\n",
       "    }\n",
       "\n",
       "    .dataframe tbody tr th {\n",
       "        vertical-align: top;\n",
       "    }\n",
       "\n",
       "    .dataframe thead th {\n",
       "        text-align: right;\n",
       "    }\n",
       "</style>\n",
       "<table border=\"1\" class=\"dataframe\">\n",
       "  <thead>\n",
       "    <tr style=\"text-align: right;\">\n",
       "      <th></th>\n",
       "      <th>ruc</th>\n",
       "      <th>tipo_doc</th>\n",
       "      <th>documento</th>\n",
       "      <th>fecha</th>\n",
       "      <th>filename</th>\n",
       "      <th>nombre</th>\n",
       "      <th>cargo</th>\n",
       "    </tr>\n",
       "  </thead>\n",
       "  <tbody>\n",
       "    <tr>\n",
       "      <th>0</th>\n",
       "      <td>0791841030001</td>\n",
       "      <td>DocumentosGenerales</td>\n",
       "      <td>Formulario de actualización de datos</td>\n",
       "      <td>2022-08-04</td>\n",
       "      <td>0791841030001_DocumentosGenerales_Formulario d...</td>\n",
       "      <td>NaN</td>\n",
       "      <td>NaN</td>\n",
       "    </tr>\n",
       "    <tr>\n",
       "      <th>1</th>\n",
       "      <td>0791841030001</td>\n",
       "      <td>DocumentosGenerales</td>\n",
       "      <td>Formulario de actualización de datos</td>\n",
       "      <td>2024-04-02</td>\n",
       "      <td>0791841030001_DocumentosGenerales_Formulario d...</td>\n",
       "      <td>NaN</td>\n",
       "      <td>NaN</td>\n",
       "    </tr>\n",
       "    <tr>\n",
       "      <th>2</th>\n",
       "      <td>0791841030001</td>\n",
       "      <td>DocumentosGenerales</td>\n",
       "      <td>Nombramiento</td>\n",
       "      <td>2023-01-26</td>\n",
       "      <td>0791841030001_DocumentosGenerales_Nombramiento...</td>\n",
       "      <td>FAJARDO TINOCO ISAURO DE JESUS</td>\n",
       "      <td>PRESIDENTE</td>\n",
       "    </tr>\n",
       "    <tr>\n",
       "      <th>3</th>\n",
       "      <td>0791841030001</td>\n",
       "      <td>DocumentosGenerales</td>\n",
       "      <td>Nombramiento SAS</td>\n",
       "      <td>2022-08-02</td>\n",
       "      <td>0791841030001_DocumentosGenerales_Nombramiento...</td>\n",
       "      <td>FAJARDO FAJARDO LESLIE FABIOLA</td>\n",
       "      <td>GERENTE GENERAL</td>\n",
       "    </tr>\n",
       "    <tr>\n",
       "      <th>4</th>\n",
       "      <td>0791841030001</td>\n",
       "      <td>DocumentosGenerales</td>\n",
       "      <td>Formulario de actualización de datos</td>\n",
       "      <td>2023-08-07</td>\n",
       "      <td>0791841030001_DocumentosGenerales_Formulario d...</td>\n",
       "      <td>NaN</td>\n",
       "      <td>NaN</td>\n",
       "    </tr>\n",
       "  </tbody>\n",
       "</table>\n",
       "</div>"
      ],
      "text/plain": [
       "             ruc             tipo_doc                             documento  \\\n",
       "0  0791841030001  DocumentosGenerales  Formulario de actualización de datos   \n",
       "1  0791841030001  DocumentosGenerales  Formulario de actualización de datos   \n",
       "2  0791841030001  DocumentosGenerales                          Nombramiento   \n",
       "3  0791841030001  DocumentosGenerales                      Nombramiento SAS   \n",
       "4  0791841030001  DocumentosGenerales  Formulario de actualización de datos   \n",
       "\n",
       "        fecha                                           filename  \\\n",
       "0  2022-08-04  0791841030001_DocumentosGenerales_Formulario d...   \n",
       "1  2024-04-02  0791841030001_DocumentosGenerales_Formulario d...   \n",
       "2  2023-01-26  0791841030001_DocumentosGenerales_Nombramiento...   \n",
       "3  2022-08-02  0791841030001_DocumentosGenerales_Nombramiento...   \n",
       "4  2023-08-07  0791841030001_DocumentosGenerales_Formulario d...   \n",
       "\n",
       "                           nombre            cargo  \n",
       "0                             NaN              NaN  \n",
       "1                             NaN              NaN  \n",
       "2  FAJARDO TINOCO ISAURO DE JESUS       PRESIDENTE  \n",
       "3  FAJARDO FAJARDO LESLIE FABIOLA  GERENTE GENERAL  \n",
       "4                             NaN              NaN  "
      ]
     },
     "execution_count": 4,
     "metadata": {},
     "output_type": "execute_result"
    }
   ],
   "source": [
    "def proces_documents(documentos, label_fields):\n",
    "    docs = []\n",
    "    for documento in documentos:\n",
    "        fields = documento.split('.')[0].split('_')\n",
    "        new_doc = {}\n",
    "        for index, field in enumerate(fields):\n",
    "            new_doc[label_fields[index]] = field\n",
    "        # add filename at the end\n",
    "        new_doc['filename'] = documento\n",
    "        # add new doc\n",
    "        docs.append(new_doc)\n",
    "    return docs\n",
    "\n",
    "doc_generales_fields = ['ruc', 'tipo_doc', 'documento', 'fecha', 'nombre', 'cargo', 'other']\n",
    "docs = proces_documents(Documentos_generales, doc_generales_fields)\n",
    "df_generales = pd.DataFrame(docs)\n",
    "df_generales.head()"
   ]
  },
  {
   "cell_type": "code",
   "execution_count": 5,
   "id": "df62f3f1",
   "metadata": {},
   "outputs": [
    {
     "name": "stdout",
     "output_type": "stream",
     "text": [
      "documento\n",
      "Oficio Nombramiento Administradores                        166636\n",
      "Formulario de actualización de datos                        86756\n",
      "Oficio Transferencia Acciones                               83115\n",
      "Nombramiento                                                43206\n",
      "Razón de Inscripción registrada                             39293\n",
      "Formulario de Información de la Sociedad Extranjera         26996\n",
      "Certificado de Existencia Legal                             26987\n",
      "Poder otorgado por la Sociedad Extranjera                   26539\n",
      "Oficio de Presentación de Doc                               15612\n",
      "Declaración Juramentada  Nómina de Socios o Accionistas     15405\n",
      "Solicitud de acceso y declaración de responsabilidad        13575\n",
      "Escritura Cesión Participación                              10067\n",
      "Carta de autorización                                        7693\n",
      "Notificación general                                         2696\n",
      "Renuncia                                                     2321\n",
      "Razón de inscripción del nombramiento                        2315\n",
      "Razón de inscripción societaria nombramiento                 1825\n",
      "Nombramiento SAS                                             1822\n",
      "Informe de sociedad extranjera remisa                        1709\n",
      "                                                             1026\n",
      "Declaración de que la información no ha variado               674\n",
      "Declaración Juramentada  Cotiza en Bolsa                      318\n",
      "Resolución                                                    300\n",
      "Oficio de Restricción                                         254\n",
      "Oficio de Levantamiento de Restricción                        154\n",
      "Posesión Efectiva                                              80\n",
      "Destitución de Nombramiento                                    27\n",
      "Cancelación de Nombramiento                                    18\n",
      "Razón de inscripción del nombramiento (Corrección)             11\n",
      "Razón de inscripción societaria (Corrección)                    1\n",
      "Name: count, dtype: int64\n"
     ]
    }
   ],
   "source": [
    "# get all the ditribution of the documents\n",
    "print(df_generales['documento'].value_counts())"
   ]
  },
  {
   "cell_type": "markdown",
   "id": "3f493eb5",
   "metadata": {},
   "source": [
    "Now we evtract the text from every possible Oficio Nombramiento Administradores\n",
    "\n",
    "We need to define what data we want to extact from every Oficio Nombramiento Administradores"
   ]
  },
  {
   "cell_type": "code",
   "execution_count": 6,
   "id": "302be2d9",
   "metadata": {},
   "outputs": [],
   "source": [
    "import concurrent.futures\n",
    "import threading\n",
    "import logging\n",
    "import traceback\n",
    "\n",
    "# Configure the logger\n",
    "logging.basicConfig(level=logging.INFO, format='%(asctime)s - %(threadName)s - %(message)s')\n",
    "\n",
    "# Create a global lock for printing (if needed)\n",
    "print_lock = threading.Lock()\n",
    "\n",
    "# create a collection for Oficio Nombramiento Administradores un cmongoDB\n",
    "collection = db['Oficio_Nombramiento_Administradores']\n",
    "# get all the documents which have the document 'Oficio Nombramiento Administradores' and have the date containes '2023'\n",
    "df_oficio_nombramiento_administradores = df_generales[(df_generales['documento'] == 'Oficio Nombramiento Administradores')]\n",
    "# extracted structure for 'Oficio Nombramiento Administradores'\n",
    "struct = {\n",
    "    \"company\": {\n",
    "        \"ruc\": \"string\",\n",
    "        \"name\": \"string\",\n",
    "        \"region\": \"string\",\n",
    "        \"date\": \"string\",\n",
    "        \"address\": \"string\",\n",
    "        \"phone\": \"string\",\n",
    "        \"notary\": \"string\",\n",
    "        \"lawyer\": \"string\",\n",
    "    },\n",
    "    \"appoitment\":{\n",
    "        \"position\": \"string\",\n",
    "        \"term_years\": \"string\",\n",
    "        \"appointment_date\": \"string\",\n",
    "        \"previous_holder\": {\n",
    "            \"name\": \"string\",\n",
    "            \"designated_date\": \"string\",\n",
    "            \"id_number\": \"string\",\n",
    "            \"id_type\": \"string\",\n",
    "        },\n",
    "        \"new_holder\": {\n",
    "            \"name\": \"string\",\n",
    "            \"designation_date\": \"string\",\n",
    "            \"id_number\": \"string\",\n",
    "            \"id_type\": \"string\",\n",
    "        },\n",
    "    },\n",
    "}\n",
    "\n",
    "def extract_data_from_pdf(row, collection):\n",
    "    try: \n",
    "        # check if the file exists in the collection\n",
    "        filename = row['filename']\n",
    "        if collection.find_one({'filename': filename}):\n",
    "            #print(f'{filename} already exists in the collection')\n",
    "            return\n",
    "        print(f'Extracting data from {filename}')\n",
    "        text = pdf_op.extract_text(filename)\n",
    "        # get the size of the text\n",
    "        tokens = len(text.split())\n",
    "        if tokens < 100:\n",
    "            print(f'Text size: {tokens}')\n",
    "            print(f'Not enough text in {filename}')\n",
    "            return\n",
    "        elif tokens > 16385:\n",
    "            print(f'Text size: {tokens}')\n",
    "            print(f'Too much text in {filename}')\n",
    "            return\n",
    "        # query open AI\n",
    "        response = query_openai(\"extract the following data in the json format, with any N/A: \" + str(struct) + \" from the following text: \" + text)\n",
    "        response = eval(response)\n",
    "        #response = {}\n",
    "        response['ruc'] = row['ruc']\n",
    "        response['fecha'] = row['fecha']\n",
    "        response['nombre'] = row['nombre']\n",
    "        response['cargo'] = row['cargo']\n",
    "        response['filename'] = filename\n",
    "        print(response)\n",
    "        # add to the collection\n",
    "        collection.insert_one(response)\n",
    "        print('-----------------------------------')\n",
    "    except Exception as e:\n",
    "        print(f'Error extracting data from {filename}: {e}')\n"
   ]
  },
  {
   "cell_type": "markdown",
   "id": "45e3883c",
   "metadata": {},
   "source": [
    "Run Sequentially"
   ]
  },
  {
   "cell_type": "code",
   "execution_count": 13,
   "id": "385e801f",
   "metadata": {},
   "outputs": [
    {
     "name": "stdout",
     "output_type": "stream",
     "text": [
      "Extracting data from 1790721450001_DocumentosGenerales_Oficio Nombramiento Administradores_2020-09-04_ALVERNIA DE CHACON IMELDA_PRESIDENTE.pdf\n",
      "Error extracting data from 1790721450001_DocumentosGenerales_Oficio Nombramiento Administradores_2020-09-04_ALVERNIA DE CHACON IMELDA_PRESIDENTE.pdf: cannot identify image file <_io.BytesIO object at 0x7fa6e3da7a60>\n",
      "Extracting data from 1791805348001_DocumentosGenerales_Oficio Nombramiento Administradores_2012-09-11_ZAMORA VEGA LUIS GUSTAVO_APODERADO.pdf\n",
      "Text size: 215164\n"
     ]
    },
    {
     "name": "stderr",
     "output_type": "stream",
     "text": [
      "2024-10-05 21:03:04,421 - MainThread - HTTP Request: POST https://api.openai.com/v1/chat/completions \"HTTP/1.1 400 Bad Request\"\n"
     ]
    },
    {
     "name": "stdout",
     "output_type": "stream",
     "text": [
      "Error extracting data from 1791805348001_DocumentosGenerales_Oficio Nombramiento Administradores_2012-09-11_ZAMORA VEGA LUIS GUSTAVO_APODERADO.pdf: Error code: 400 - {'error': {'message': \"This model's maximum context length is 16385 tokens. However, your messages resulted in 68334 tokens. Please reduce the length of the messages.\", 'type': 'invalid_request_error', 'param': 'messages', 'code': 'context_length_exceeded'}}\n",
      "Extracting data from 1391748027001_DocumentosGenerales_Oficio Nombramiento Administradores_2017-12-19_PALADINES LUISA MARLENE_GERENTE GENERAL.pdf\n",
      "Error extracting data from 1391748027001_DocumentosGenerales_Oficio Nombramiento Administradores_2017-12-19_PALADINES LUISA MARLENE_GERENTE GENERAL.pdf: cannot identify image file <_io.BytesIO object at 0x7fa6e3dcb3d0>\n"
     ]
    }
   ],
   "source": [
    "# test the first values of the df between 100 and 200\n",
    "for _, row in df_oficio_nombramiento_administradores.iloc[12:2000].iterrows():\n",
    "    extract_data_from_pdf(row, collection)"
   ]
  },
  {
   "cell_type": "markdown",
   "id": "df9e4925",
   "metadata": {},
   "source": [
    "Run multithreaded"
   ]
  },
  {
   "cell_type": "code",
   "execution_count": null,
   "id": "176c4a65",
   "metadata": {},
   "outputs": [],
   "source": [
    "# Multithreading implementation\n",
    "def process_pdf_data_in_parallel(df, collection, max_workers=5):\n",
    "    with concurrent.futures.ThreadPoolExecutor(max_workers=max_workers) as executor:\n",
    "        # Submit tasks for each row to the executor, passing the collection explicitly\n",
    "        futures = [executor.submit(extract_data_from_pdf, row, collection) for _, row in df.iterrows()]\n",
    "        # Optionally, you can handle results or exceptions here\n",
    "        for future in concurrent.futures.as_completed(futures):\n",
    "            try:\n",
    "                future.result()  # We can use this to raise exceptions if any occurred in the threads\n",
    "            except Exception as e:\n",
    "                # remove row from df if error\n",
    "                print(f\"Exception in thread: {e}\")\n",
    "                traceback.print_exc()\n",
    "\n",
    "\n",
    "# Adjust the number of threads as needed\n",
    "max_threads = 10  # Example: Use 5 threads\n",
    "# Execute the function with multithreading, passing the collection explicitly\n",
    "process_pdf_data_in_parallel(df_oficio_nombramiento_administradores, collection, max_threads)"
   ]
  },
  {
   "cell_type": "code",
   "execution_count": null,
   "id": "d1f1fbe2",
   "metadata": {},
   "outputs": [],
   "source": [
    "# get all the ditribution of the documents economicosn \n",
    "print(df_economicos['documento'].value_counts())"
   ]
  },
  {
   "cell_type": "code",
   "execution_count": null,
   "id": "eed380a9",
   "metadata": {},
   "outputs": [],
   "source": [
    "docs_economicos_fields = ['ruc', 'tipo_doc', 'documento', 'fecha', 'other']\n",
    "docs = proces_documents(Documentos_economicos, docs_economicos_fields)\n",
    "df_economicos = pd.DataFrame(docs)\n",
    "df_economicos.head()"
   ]
  },
  {
   "cell_type": "code",
   "execution_count": null,
   "id": "5bbe7af6",
   "metadata": {},
   "outputs": [],
   "source": [
    "docs_juridicos_fields = ['ruc', 'tipo_doc', 'acto_juridico', 'fecha', 'other']\n",
    "docs = proces_documents(Documentos_juridicos, docs_juridicos_fields)\n",
    "df_juridicos = pd.DataFrame(docs)\n",
    "df_juridicos.head()"
   ]
  },
  {
   "cell_type": "code",
   "execution_count": null,
   "id": "8e5654a3",
   "metadata": {},
   "outputs": [],
   "source": [
    "# get all the ditribution of the documents economicosn \n",
    "print(df_juridicos['acto_juridico'].value_counts())"
   ]
  },
  {
   "cell_type": "markdown",
   "id": "a7d71af5",
   "metadata": {},
   "source": [
    "Now get all of the the documentos economicos"
   ]
  },
  {
   "cell_type": "markdown",
   "id": "5a7b22c0",
   "metadata": {},
   "source": [
    "Check the pdfs for the pdfs that we don't have the complete title or filename for\n",
    "this it important because based on the document name we define how we can extract the information "
   ]
  },
  {
   "cell_type": "code",
   "execution_count": null,
   "id": "f22fafbf",
   "metadata": {},
   "outputs": [],
   "source": [
    "#print(f'In the df_generales there are {df_generales_nan.shape[0]} out of {df_generales.shape[0]} with no fecha column')\n",
    "#df_generales['documento'].value_counts()"
   ]
  },
  {
   "cell_type": "code",
   "execution_count": 7,
   "id": "5788b091",
   "metadata": {},
   "outputs": [],
   "source": [
    "\n",
    "# make the same for economicos\n",
    "#df_economicos['documento'].value_counts().shape"
   ]
  },
  {
   "cell_type": "code",
   "execution_count": null,
   "id": "d68adad4",
   "metadata": {},
   "outputs": [],
   "source": [
    "df_juridicos_fecha_nan = df_juridicos[df_juridicos['fecha'].isna()]\n",
    "\n",
    "df_juridicos_fecha_nan.shape\n",
    "\n",
    "# get all docuemntos de 2023\n",
    "#df_juridicos[df_juridicos['fecha'].str.contains('2023')].head()\n",
    "#df_juridicos['acto_juridico'].value_counts().shape\n",
    "# make the same for juridicos\n",
    "#df_juridico_2023 = df_juridicos['acto_juridico'].value_counts()\n"
   ]
  }
 ],
 "metadata": {
  "kernelspec": {
   "display_name": "Python 3 (ipykernel)",
   "language": "python",
   "name": "python3"
  },
  "language_info": {
   "codemirror_mode": {
    "name": "ipython",
    "version": 3
   },
   "file_extension": ".py",
   "mimetype": "text/x-python",
   "name": "python",
   "nbconvert_exporter": "python",
   "pygments_lexer": "ipython3",
   "version": "3.12.6"
  }
 },
 "nbformat": 4,
 "nbformat_minor": 5
}
