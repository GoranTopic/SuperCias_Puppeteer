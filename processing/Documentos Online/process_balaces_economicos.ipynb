{
 "cells": [
  {
   "cell_type": "markdown",
   "id": "fb037365",
   "metadata": {},
   "source": [
    "# Process the Data extracted balances economicos"
   ]
  },
  {
   "cell_type": "code",
   "execution_count": 3,
   "id": "d5aee10a",
   "metadata": {},
   "outputs": [],
   "source": [
    "packages = ['pymongo', 'pandas', 'altair', 'pandas']\n",
    "for package in packages:\n",
    "    try:\n",
    "        __import__(package)\n",
    "    except ImportError:\n",
    "        !pip install {package}\n",
    "\n",
    "import os\n",
    "from pymongo import MongoClient\n",
    "import pandas as pd\n",
    "\n",
    "\n",
    "#endpoint = '10.0.10.5:27017'\n",
    "endpoint = '192.168.1.10:27017'\n",
    "database = 'supercias'\n",
    "collection = 'balances_economicos_2023'\n",
    "\n",
    "# Connect to MongoDB\n",
    "db = MongoClient('mongodb://'+endpoint)[database]\n",
    "collection = db[collection]\n",
    "collection_list = list(collection.find())\n",
    "\n",
    "# find one\n",
    "balances = pd.DataFrame(collection_list)"
   ]
  },
  {
   "cell_type": "code",
   "execution_count": 4,
   "id": "9284b9b2",
   "metadata": {},
   "outputs": [
    {
     "name": "stdout",
     "output_type": "stream",
     "text": [
      "Index(['_id', 'RAZÓN SOCIAL', 'DIRECCIÓN', 'EXPEDIENTE', 'RUC', 'AÑO',\n",
      "       'FECHA DE LA JUNTA QUE APROBÓ LOS ESTADOS FINANCIEROS (DD/MM/AAA)',\n",
      "       'FORMULARIO', 'ACTIVO', 'ACTIVO CORRIENTE',\n",
      "       ...\n",
      "       'Impuesto Diferido por Pagar  Suman',\n",
      "       'Capital Social  Reservas  Resultados Adopción NIIFs  ORI Beneficios Laborales  Resultados Acumulados  Superávit por Revaluación  Pérdidas Acumuladas por Regularización  Resultados del Ejercicio  Total del Patrimonio',\n",
      "       'Telar Karl Mayer, modelo ks4 fbz, serie 55744  Urdidora Liba, modelo 15, serie 776; con fileta  Urdidora karl mayer, modelo dsn 21/30, serie 10450  Total Superavit por Revaluación',\n",
      "       'Valor  115.729,62  20.335,19  61.451,51', '(ii)',\n",
      "       'Resultado del Ejercicio  15% Utilidad Empleados  Impuesto a la Renta  Resultado Integral  Reserva Legal  Utilidad a Distribuirse',\n",
      "       '63,82',\n",
      "       'Ventas Gravadas 12%  Ventas Gravadas 0%  Descuento y Devolución en Ventas  Ingresos no Operacionales  Suman:',\n",
      "       'Costo de Ventas Directos  Gastos Administrativos y de Ventas  Gastos Financieros  Otros Gastos Operativos  Egresos no Operacionales  Suman:',\n",
      "       'Año 2022  935.263,42  196.229,86  93.484,92  142.928,75  550,32'],\n",
      "      dtype='object', length=3504)\n"
     ]
    }
   ],
   "source": [
    "print(balances.columns)"
   ]
  },
  {
   "cell_type": "markdown",
   "id": "94a6440b",
   "metadata": {},
   "source": [
    "Get all the rows with RUC null"
   ]
  },
  {
   "cell_type": "code",
   "execution_count": 10,
   "id": "041e2815",
   "metadata": {},
   "outputs": [
    {
     "name": "stdout",
     "output_type": "stream",
     "text": [
      "dropping companies with null RUC 140\n",
      "balances shape before (17962, 3504)\n",
      "balances shape after (17822, 3504)\n"
     ]
    }
   ],
   "source": [
    "# get all of the companies that have RUC as null\n",
    "companies = balances[balances['RUC'].isnull()]\n",
    "print('dropping companies with null RUC', companies.shape[0])\n",
    "print('balances shape before', balances.shape)\n",
    "# drop them\n",
    "balances = balances[~balances['RUC'].isnull()]\n",
    "print('balances shape after', balances.shape)\n"
   ]
  }
 ],
 "metadata": {
  "kernelspec": {
   "display_name": "Python 3 (ipykernel)",
   "language": "python",
   "name": "python3"
  },
  "language_info": {
   "codemirror_mode": {
    "name": "ipython",
    "version": 3
   },
   "file_extension": ".py",
   "mimetype": "text/x-python",
   "name": "python",
   "nbconvert_exporter": "python",
   "pygments_lexer": "ipython3",
   "version": "3.12.4"
  }
 },
 "nbformat": 4,
 "nbformat_minor": 5
}
