{
 "cells": [
  {
   "cell_type": "markdown",
   "id": "fb037365",
   "metadata": {},
   "source": [
    "# Find all the types of documents posible in supercias\n",
    "### We need to define how many types documents and their frequency in supercias"
   ]
  },
  {
   "cell_type": "code",
   "execution_count": 1,
   "id": "d5aee10a",
   "metadata": {},
   "outputs": [
    {
     "name": "stdout",
     "output_type": "stream",
     "text": [
      "Requirement already satisfied: python-dotenv in /home/terac/.local/share/virtualenvs/terac-sYctsPSc/lib/python3.12/site-packages (1.0.1)\n",
      "\n",
      "\u001b[1m[\u001b[0m\u001b[34;49mnotice\u001b[0m\u001b[1;39;49m]\u001b[0m\u001b[39;49m A new release of pip is available: \u001b[0m\u001b[31;49m23.2.1\u001b[0m\u001b[39;49m -> \u001b[0m\u001b[32;49m24.2\u001b[0m\n",
      "\u001b[1m[\u001b[0m\u001b[34;49mnotice\u001b[0m\u001b[1;39;49m]\u001b[0m\u001b[39;49m To update, run: \u001b[0m\u001b[32;49mpip install --upgrade pip\u001b[0m\n"
     ]
    }
   ],
   "source": [
    "packages = ['pymongo', 'gridfs', 'pandas', 'pymupdf', 'pytesseract', 'pdf2image', 'openai', 'python-dotenv']\n",
    "for package in packages:\n",
    "    try:\n",
    "        __import__(package)\n",
    "    except ImportError:\n",
    "        !pip install {package}\n",
    "\n",
    "import os\n",
    "from pymongo import MongoClient\n",
    "import pandas as pd\n",
    "from functions.pdf_operations import PDFOperations\n",
    "from functions.prompt_openai import query_openai\n",
    "# endpoint = '10.0.10.5:27017' # use vpn\n",
    "endpoint = '192.168.1.10:27017'  # use lan\n",
    "#endpoint = '192.168.229.55:27017' # use house wifi\n",
    "database = 'supercias'\n",
    "collection = 'clean_companies'\n",
    "# Connect to MongoDB\n",
    "db = MongoClient('mongodb://'+endpoint)[database]\n",
    "# get collection\n",
    "collection = db[collection]\n",
    "# where the pdfs will be stored \n",
    "pdfs_path = '../storage/pdfs/'\n",
    "# pdf operator\n",
    "pdf_op = PDFOperations(db, 'companies', pdfs_path)\n",
    "#find pdf file\n",
    "companies_cursor = collection.find()"
   ]
  },
  {
   "cell_type": "markdown",
   "id": "15301b81",
   "metadata": {},
   "source": [
    "Let seperate the docuemt by the type they can belong to: Generales, Economicos  and Judiciales"
   ]
  },
  {
   "cell_type": "code",
   "execution_count": 2,
   "id": "39b041fd",
   "metadata": {},
   "outputs": [],
   "source": [
    "# now lets get all the documents for every company\n",
    "companies = collection.find()\n",
    "Documentos_generales = []\n",
    "Documentos_economicos = []\n",
    "Documentos_juridicos = []\n",
    "\n",
    "for company in companies:\n",
    "    # get the Documentos online\n",
    "    documentos = company['Documentos']\n",
    "    for documento in documentos['Generales']:\n",
    "        Documentos_generales.append(documento)\n",
    "    for documento in documentos['Economicos']:\n",
    "        Documentos_economicos.append(documento)\n",
    "    for documento in documentos['Juridicos']:\n",
    "        Documentos_juridicos.append(documento)"
   ]
  },
  {
   "cell_type": "markdown",
   "id": "8e2ff5c4",
   "metadata": {},
   "source": [
    "Get all of the difrent kind of documentos generales into a df from 2010 and on"
   ]
  },
  {
   "cell_type": "code",
   "execution_count": 3,
   "id": "bf1bde3e",
   "metadata": {},
   "outputs": [
    {
     "data": {
      "text/html": [
       "<div>\n",
       "<style scoped>\n",
       "    .dataframe tbody tr th:only-of-type {\n",
       "        vertical-align: middle;\n",
       "    }\n",
       "\n",
       "    .dataframe tbody tr th {\n",
       "        vertical-align: top;\n",
       "    }\n",
       "\n",
       "    .dataframe thead th {\n",
       "        text-align: right;\n",
       "    }\n",
       "</style>\n",
       "<table border=\"1\" class=\"dataframe\">\n",
       "  <thead>\n",
       "    <tr style=\"text-align: right;\">\n",
       "      <th></th>\n",
       "      <th>ruc</th>\n",
       "      <th>tipo_doc</th>\n",
       "      <th>documento</th>\n",
       "      <th>fecha</th>\n",
       "      <th>filename</th>\n",
       "      <th>nombre</th>\n",
       "      <th>cargo</th>\n",
       "    </tr>\n",
       "  </thead>\n",
       "  <tbody>\n",
       "    <tr>\n",
       "      <th>0</th>\n",
       "      <td>0791841030001</td>\n",
       "      <td>DocumentosGenerales</td>\n",
       "      <td>Formulario de actualización de datos</td>\n",
       "      <td>2022-08-04</td>\n",
       "      <td>0791841030001_DocumentosGenerales_Formulario d...</td>\n",
       "      <td>NaN</td>\n",
       "      <td>NaN</td>\n",
       "    </tr>\n",
       "    <tr>\n",
       "      <th>1</th>\n",
       "      <td>0791841030001</td>\n",
       "      <td>DocumentosGenerales</td>\n",
       "      <td>Formulario de actualización de datos</td>\n",
       "      <td>2024-04-02</td>\n",
       "      <td>0791841030001_DocumentosGenerales_Formulario d...</td>\n",
       "      <td>NaN</td>\n",
       "      <td>NaN</td>\n",
       "    </tr>\n",
       "    <tr>\n",
       "      <th>2</th>\n",
       "      <td>0791841030001</td>\n",
       "      <td>DocumentosGenerales</td>\n",
       "      <td>Nombramiento</td>\n",
       "      <td>2023-01-26</td>\n",
       "      <td>0791841030001_DocumentosGenerales_Nombramiento...</td>\n",
       "      <td>FAJARDO TINOCO ISAURO DE JESUS</td>\n",
       "      <td>PRESIDENTE</td>\n",
       "    </tr>\n",
       "    <tr>\n",
       "      <th>3</th>\n",
       "      <td>0791841030001</td>\n",
       "      <td>DocumentosGenerales</td>\n",
       "      <td>Nombramiento SAS</td>\n",
       "      <td>2022-08-02</td>\n",
       "      <td>0791841030001_DocumentosGenerales_Nombramiento...</td>\n",
       "      <td>FAJARDO FAJARDO LESLIE FABIOLA</td>\n",
       "      <td>GERENTE GENERAL</td>\n",
       "    </tr>\n",
       "    <tr>\n",
       "      <th>4</th>\n",
       "      <td>0791841030001</td>\n",
       "      <td>DocumentosGenerales</td>\n",
       "      <td>Formulario de actualización de datos</td>\n",
       "      <td>2023-08-07</td>\n",
       "      <td>0791841030001_DocumentosGenerales_Formulario d...</td>\n",
       "      <td>NaN</td>\n",
       "      <td>NaN</td>\n",
       "    </tr>\n",
       "  </tbody>\n",
       "</table>\n",
       "</div>"
      ],
      "text/plain": [
       "             ruc             tipo_doc                             documento  \\\n",
       "0  0791841030001  DocumentosGenerales  Formulario de actualización de datos   \n",
       "1  0791841030001  DocumentosGenerales  Formulario de actualización de datos   \n",
       "2  0791841030001  DocumentosGenerales                          Nombramiento   \n",
       "3  0791841030001  DocumentosGenerales                      Nombramiento SAS   \n",
       "4  0791841030001  DocumentosGenerales  Formulario de actualización de datos   \n",
       "\n",
       "       fecha                                           filename  \\\n",
       "0 2022-08-04  0791841030001_DocumentosGenerales_Formulario d...   \n",
       "1 2024-04-02  0791841030001_DocumentosGenerales_Formulario d...   \n",
       "2 2023-01-26  0791841030001_DocumentosGenerales_Nombramiento...   \n",
       "3 2022-08-02  0791841030001_DocumentosGenerales_Nombramiento...   \n",
       "4 2023-08-07  0791841030001_DocumentosGenerales_Formulario d...   \n",
       "\n",
       "                           nombre            cargo  \n",
       "0                             NaN              NaN  \n",
       "1                             NaN              NaN  \n",
       "2  FAJARDO TINOCO ISAURO DE JESUS       PRESIDENTE  \n",
       "3  FAJARDO FAJARDO LESLIE FABIOLA  GERENTE GENERAL  \n",
       "4                             NaN              NaN  "
      ]
     },
     "execution_count": 3,
     "metadata": {},
     "output_type": "execute_result"
    }
   ],
   "source": [
    "def proces_documents(documentos, label_fields):\n",
    "    docs = []\n",
    "    for documento in documentos:\n",
    "        fields = documento.split('.')[0].split('_')\n",
    "        new_doc = {}\n",
    "        for index, field in enumerate(fields):\n",
    "            new_doc[label_fields[index]] = field\n",
    "        # add filename at the end\n",
    "        new_doc['filename'] = documento\n",
    "        # add new doc\n",
    "        docs.append(new_doc)\n",
    "    return docs\n",
    "\n",
    "doc_generales_fields = ['ruc', 'tipo_doc', 'documento', 'fecha', 'nombre', 'cargo', 'other']\n",
    "docs = proces_documents(Documentos_generales, doc_generales_fields)\n",
    "df_generales = pd.DataFrame(docs)\n",
    "df_generales['fecha'] = pd.to_datetime(df_generales['fecha'])\n",
    "# get all of the docuemntos from 2010 and on\n",
    "df_generales = df_generales[df_generales['fecha'] > '2010-01-01']\n",
    "df_generales.head()"
   ]
  },
  {
   "cell_type": "code",
   "execution_count": 4,
   "id": "df62f3f1",
   "metadata": {},
   "outputs": [
    {
     "name": "stdout",
     "output_type": "stream",
     "text": [
      "documento\n",
      "Oficio Nombramiento Administradores                        106791\n",
      "Formulario de actualización de datos                        86756\n",
      "Oficio Transferencia Acciones                               48987\n",
      "Razón de Inscripción registrada                             39292\n",
      "Nombramiento                                                38436\n",
      "Formulario de Información de la Sociedad Extranjera         26174\n",
      "Certificado de Existencia Legal                             26118\n",
      "Poder otorgado por la Sociedad Extranjera                   25864\n",
      "Declaración Juramentada  Nómina de Socios o Accionistas     14601\n",
      "Solicitud de acceso y declaración de responsabilidad        13575\n",
      "Carta de autorización                                        7693\n",
      "Escritura Cesión Participación                               6622\n",
      "Notificación general                                         2696\n",
      "Razón de inscripción del nombramiento                        2315\n",
      "Renuncia                                                     2174\n",
      "Razón de inscripción societaria nombramiento                 1825\n",
      "Nombramiento SAS                                             1822\n",
      "Informe de sociedad extranjera remisa                        1709\n",
      "Declaración de que la información no ha variado               674\n",
      "Declaración Juramentada  Cotiza en Bolsa                      318\n",
      "Oficio de Restricción                                         254\n",
      "Oficio de Levantamiento de Restricción                        154\n",
      "Posesión Efectiva                                              46\n",
      "Destitución de Nombramiento                                    27\n",
      "Resolución                                                     24\n",
      "Cancelación de Nombramiento                                    18\n",
      "Razón de inscripción del nombramiento (Corrección)             11\n",
      "Razón de inscripción societaria (Corrección)                    1\n",
      "Name: count, dtype: int64\n"
     ]
    }
   ],
   "source": [
    "# 0791841030001_DocumentosGenerales_Formulario de actualización de datos_2022-08-04.pdf\n",
    "# get all the ditribution of the documents\n",
    "print(df_generales['documento'].value_counts())"
   ]
  },
  {
   "cell_type": "markdown",
   "id": "daa6f65d",
   "metadata": {},
   "source": [
    "We define the schema to be used by to scrap the Oficio Nombramiento Administradores"
   ]
  },
  {
   "cell_type": "code",
   "execution_count": 5,
   "id": "012f4c5a",
   "metadata": {},
   "outputs": [],
   "source": [
    "# extracted structure for 'Oficio Nombramiento Administradores'\n",
    "from pydantic import BaseModel\n",
    "from typing import List, Optional\n",
    "\n",
    "class PreviousHolder(BaseModel):\n",
    "    name: str\n",
    "    designated_date: str\n",
    "    id_number: str\n",
    "    id_type: str\n",
    "\n",
    "class NewHolder(BaseModel):\n",
    "    name: str\n",
    "    designated_date: str\n",
    "    id_number: str\n",
    "    id_type: str\n",
    "\n",
    "class Appointment(BaseModel):\n",
    "    position: str\n",
    "    term_years: str\n",
    "    appointment_date: str\n",
    "    previous_holder: Optional[PreviousHolder]\n",
    "    new_holder: Optional[NewHolder]\n",
    "\n",
    "class Company(BaseModel):\n",
    "    ruc: str\n",
    "    name: str\n",
    "    region: str\n",
    "    date: str\n",
    "    address: str\n",
    "    phone: str\n",
    "    notary: str\n",
    "    lawyer: str\n",
    "\n",
    "class OficioNombramientoAdministradores(BaseModel):\n",
    "    company: Company\n",
    "    appointment: Appointment"
   ]
  },
  {
   "cell_type": "markdown",
   "id": "3f493eb5",
   "metadata": {},
   "source": [
    "Now we evtract the text from every possible Oficio Nombramiento Administradores\n",
    "\n",
    "We need to define what data we want to extact from every Oficio Nombramiento Administradores"
   ]
  },
  {
   "cell_type": "code",
   "execution_count": 7,
   "id": "302be2d9",
   "metadata": {},
   "outputs": [],
   "source": [
    "import concurrent.futures\n",
    "import threading\n",
    "import logging\n",
    "import traceback\n",
    "\n",
    "# Configure the logger\n",
    "logging.basicConfig(level=logging.INFO, format='%(asctime)s - %(threadName)s - %(message)s')\n",
    "\n",
    "# Create a global lock for printing (if needed)\n",
    "print_lock = threading.Lock()\n",
    "\n",
    "# create a collection for Oficio Nombramiento Administradores un cmongoDB\n",
    "collection = db['Oficio_Nombramiento_Administradores']\n",
    "# get all the documents which have the document 'Oficio Nombramiento Administradores' and have the date containes '2023'\n",
    "df_oficio_nombramiento_administradores = df_generales[(df_generales['documento'] == 'Oficio Nombramiento Administradores')]\n",
    "\n",
    "\n",
    "def extract_data_from_pdf(row, collection, pdf_op, schema):\n",
    "    # check if the file exists in the collection\n",
    "    filename = row['filename']\n",
    "    if collection.find_one({'filename': filename}):\n",
    "        #print(f'{filename} already exists in the collection')\n",
    "        return\n",
    "    print(f'Extracting data from {filename}')\n",
    "    text = pdf_op.extract_text(filename)\n",
    "    if( text == None):\n",
    "        print(f'Error extracting text from {filename}')\n",
    "        return\n",
    "    # get the size of the text\n",
    "    tokens = len(text.split())\n",
    "    if tokens < 100:\n",
    "        print(f'Text size: {tokens}')\n",
    "        print(f'Not enough text in {filename}')\n",
    "        return\n",
    "    elif tokens > 16385:\n",
    "        print(f'Text size: {tokens}')\n",
    "        print(f'Too much text in {filename}')\n",
    "        return\n",
    "    # query open AI\n",
    "    response = query_openai(\"extract the following data in the json format, with any N/A, from the following text: \" + text, schema=schema)\n",
    "    # convert the response to a dictionary\n",
    "    response = response.dict()\n",
    "    response['ruc'] = row['ruc']\n",
    "    response['fecha'] = row['fecha']\n",
    "    response['nombre'] = row['nombre']\n",
    "    response['cargo'] = row['cargo']\n",
    "    response['filename'] = filename\n",
    "    print(response)\n",
    "    # add to the collection\n",
    "    collection.insert_one(response)\n",
    "    # return response \n",
    "    print('-----------------------------------')\n",
    "    return response\n"
   ]
  },
  {
   "cell_type": "markdown",
   "id": "45e3883c",
   "metadata": {},
   "source": [
    "Run Sequentially"
   ]
  },
  {
   "cell_type": "code",
   "execution_count": 25,
   "id": "385e801f",
   "metadata": {},
   "outputs": [
    {
     "name": "stdout",
     "output_type": "stream",
     "text": [
      "Extracting data from 1790721450001_DocumentosGenerales_Oficio Nombramiento Administradores_2020-09-04_ALVERNIA DE CHACON IMELDA_PRESIDENTE.pdf\n"
     ]
    },
    {
     "name": "stderr",
     "output_type": "stream",
     "text": [
      "2024-10-13 21:10:22,265 - MainThread - HTTP Request: POST https://api.openai.com/v1/chat/completions \"HTTP/1.1 200 OK\"\n"
     ]
    },
    {
     "name": "stdout",
     "output_type": "stream",
     "text": [
      "{'company': {'ruc': 'N/A', 'name': 'LABORATORIOS CHALVER DEL ECUADOR CIA LTDA.', 'region': 'Quito', 'date': '30 de julio de 2020', 'address': 'N/A', 'phone': 'N/A', 'notary': 'Doctor Guillermo Salen Rivas, Notario Octavo del cantón Quito', 'lawyer': 'N/A'}, 'appointment': {'position': 'PRESIDENTE', 'term_years': '5', 'appointment_date': '30 de julio de 2020', 'previous_holder': None, 'new_holder': {'name': 'Imelda Alvernia de Chacón', 'designated_date': '30 de julio de 2020', 'id_number': 'AM794539', 'id_type': 'Pasaporte'}}, 'ruc': '1790721450001', 'fecha': Timestamp('2020-09-04 00:00:00'), 'nombre': 'ALVERNIA DE CHACON IMELDA', 'cargo': 'PRESIDENTE', 'filename': '1790721450001_DocumentosGenerales_Oficio Nombramiento Administradores_2020-09-04_ALVERNIA DE CHACON IMELDA_PRESIDENTE.pdf'}\n"
     ]
    }
   ],
   "source": [
    "# test with the filename '1790721450001_DocumentosGenerales_Oficio Nombramiento Administradores_2020-09-04_ALVERNIA DE CHACON IMELDA_PRESIDENTE.pdf'\n",
    "#filename = '1790721450001_DocumentosGenerales_Oficio Nombramiento Administradores_2020-09-04_ALVERNIA DE CHACON IMELDA_PRESIDENTE.pdf'\n",
    "#df_oficio_nombramiento_administradores = df_oficio_nombramiento_administradores[df_oficio_nombramiento_administradores['filename'] == filename]\n",
    "# test the first values of the df between 100 and 200\n",
    "for _, row in df_oficio_nombramiento_administradores.iterrows():\n",
    "    res = extract_data_from_pdf(row, collection, pdf_op, OficioNombramientoAdministradores)"
   ]
  },
  {
   "cell_type": "markdown",
   "id": "df9e4925",
   "metadata": {},
   "source": [
    "Run multithreaded"
   ]
  },
  {
   "cell_type": "code",
   "execution_count": null,
   "id": "176c4a65",
   "metadata": {},
   "outputs": [
    {
     "name": "stdout",
     "output_type": "stream",
     "text": [
      "Extracting data from 1391748027001_DocumentosGenerales_Oficio Nombramiento Administradores_2017-12-19_PALADINES LUISA MARLENE_GERENTE GENERAL.pdf\n",
      "Extracting data from 1791338693001_DocumentosGenerales_Oficio Nombramiento Administradores_2020-12-04_VEINTIMILLA ALAVA LUIS GUILLERMO_APODERADO ESPECIAL.pdf\n",
      "Extracting data from 0991037357001_DocumentosGenerales_Oficio Nombramiento Administradores_2021-07-08_LEON ASPIAZU JAVIER FRANCISCO_APODERADO.pdf\n",
      "Extracting data from 0190485048001_DocumentosGenerales_Oficio Nombramiento Administradores_2019-12-05_VAZQUEZ CUEVA JORGE MAURICIO_PRESIDENTE.pdf\n",
      "Extracting data from 0190485048001_DocumentosGenerales_Oficio Nombramiento Administradores_2019-12-05_VASQUEZ MALO JUAN FERNANDO_GERENTE GENERAL.pdf\n",
      "Extracting data from 0993075345001_DocumentosGenerales_Oficio Nombramiento Administradores_2022-05-24_BETANCOURT ORTEGA DIANA LILIANA_APODERADO GENERAL.pdf\n",
      "Extracting data from 1391794916001_DocumentosGenerales_Oficio Nombramiento Administradores_2017-10-11__GERENTE GENERAL.pdf\n",
      "Extracting data from 1791940555001_DocumentosGenerales_Oficio Nombramiento Administradores_2011-09-23_GONZALEZ MARTINEZ MARIA MERCEDES_APODERADO.pdf\n",
      "Extracting data from 1790598012001_DocumentosGenerales_Oficio Nombramiento Administradores_2018-10-04_TAMAYO VALLEJO DENNYS RAMIRO_APODERADO GENERAL.pdf\n",
      "Extracting data from 1790598012001_DocumentosGenerales_Oficio Nombramiento Administradores_2017-08-04_TAMAYO VALLEJO DENNYS RAMIRO_APODERADO GENERAL.pdf\n",
      "(1, 'Estimating resolution as 230 Warning. Invalid resolution 0 dpi. Using 70 instead. Too few characters. Skipping this page Error during processing.')\n",
      "Exception in thread: 'NoneType' object has no attribute 'split'\n"
     ]
    },
    {
     "name": "stderr",
     "output_type": "stream",
     "text": [
      "Traceback (most recent call last):\n",
      "  File \"/tmp/ipykernel_637815/2258620412.py\", line 9, in process_pdf_data_in_parallel\n",
      "    future.result()  # We can use this to raise exceptions if any occurred in the threads\n",
      "    ^^^^^^^^^^^^^^^\n",
      "  File \"/usr/lib64/python3.12/concurrent/futures/_base.py\", line 449, in result\n",
      "    return self.__get_result()\n",
      "           ^^^^^^^^^^^^^^^^^^^\n",
      "  File \"/usr/lib64/python3.12/concurrent/futures/_base.py\", line 401, in __get_result\n",
      "    raise self._exception\n",
      "  File \"/usr/lib64/python3.12/concurrent/futures/thread.py\", line 58, in run\n",
      "    result = self.fn(*self.args, **self.kwargs)\n",
      "             ^^^^^^^^^^^^^^^^^^^^^^^^^^^^^^^^^^\n",
      "  File \"/tmp/ipykernel_637815/2288641554.py\", line 27, in extract_data_from_pdf\n",
      "    tokens = len(text.split())\n",
      "                 ^^^^^^^^^^\n",
      "AttributeError: 'NoneType' object has no attribute 'split'\n"
     ]
    },
    {
     "name": "stdout",
     "output_type": "stream",
     "text": [
      "Extracting data from 0990326606001_DocumentosGenerales_Oficio Nombramiento Administradores_2020-05-13_VITERI ANDRADE LEONARDO RENE_VICEPRESIDENTE EJECUTIVO.pdf\n",
      "(1, 'Estimating resolution as 202 Warning. Invalid resolution 0 dpi. Using 70 instead. Too few characters. Skipping this page Error during processing.')\n",
      "Exception in thread: 'NoneType' object has no attribute 'split'\n"
     ]
    },
    {
     "name": "stderr",
     "output_type": "stream",
     "text": [
      "Traceback (most recent call last):\n",
      "  File \"/tmp/ipykernel_637815/2258620412.py\", line 9, in process_pdf_data_in_parallel\n",
      "    future.result()  # We can use this to raise exceptions if any occurred in the threads\n",
      "    ^^^^^^^^^^^^^^^\n",
      "  File \"/usr/lib64/python3.12/concurrent/futures/_base.py\", line 449, in result\n",
      "    return self.__get_result()\n",
      "           ^^^^^^^^^^^^^^^^^^^\n",
      "  File \"/usr/lib64/python3.12/concurrent/futures/_base.py\", line 401, in __get_result\n",
      "    raise self._exception\n",
      "  File \"/usr/lib64/python3.12/concurrent/futures/thread.py\", line 58, in run\n",
      "    result = self.fn(*self.args, **self.kwargs)\n",
      "             ^^^^^^^^^^^^^^^^^^^^^^^^^^^^^^^^^^\n",
      "  File \"/tmp/ipykernel_637815/2288641554.py\", line 27, in extract_data_from_pdf\n",
      "    tokens = len(text.split())\n",
      "                 ^^^^^^^^^^\n",
      "AttributeError: 'NoneType' object has no attribute 'split'\n"
     ]
    },
    {
     "name": "stdout",
     "output_type": "stream",
     "text": [
      "Extracting data from 1791251237001_DocumentosGenerales_Oficio Nombramiento Administradores_2018-12-04_MALDONADO GUEVARA FRANCISCO TEODORO_APODERADO GENERAL.pdf\n",
      "(1, 'Estimating resolution as 113 Too few characters. Skipping this page Warning. Invalid resolution 0 dpi. Using 70 instead. Too few characters. Skipping this page Error during processing.')\n",
      "Exception in thread: 'NoneType' object has no attribute 'split'\n",
      "(1, 'Estimating resolution as 150 Too few characters. Skipping this page Warning. Invalid resolution 0 dpi. Using 70 instead. Too few characters. Skipping this page Error during processing.')\n",
      "Exception in thread: 'NoneType' object has no attribute 'split'\n"
     ]
    },
    {
     "name": "stderr",
     "output_type": "stream",
     "text": [
      "Traceback (most recent call last):\n",
      "  File \"/tmp/ipykernel_637815/2258620412.py\", line 9, in process_pdf_data_in_parallel\n",
      "    future.result()  # We can use this to raise exceptions if any occurred in the threads\n",
      "    ^^^^^^^^^^^^^^^\n",
      "  File \"/usr/lib64/python3.12/concurrent/futures/_base.py\", line 449, in result\n",
      "    return self.__get_result()\n",
      "           ^^^^^^^^^^^^^^^^^^^\n",
      "  File \"/usr/lib64/python3.12/concurrent/futures/_base.py\", line 401, in __get_result\n",
      "    raise self._exception\n",
      "  File \"/usr/lib64/python3.12/concurrent/futures/thread.py\", line 58, in run\n",
      "    result = self.fn(*self.args, **self.kwargs)\n",
      "             ^^^^^^^^^^^^^^^^^^^^^^^^^^^^^^^^^^\n",
      "  File \"/tmp/ipykernel_637815/2288641554.py\", line 27, in extract_data_from_pdf\n",
      "    tokens = len(text.split())\n",
      "                 ^^^^^^^^^^\n",
      "AttributeError: 'NoneType' object has no attribute 'split'\n",
      "Traceback (most recent call last):\n",
      "  File \"/tmp/ipykernel_637815/2258620412.py\", line 9, in process_pdf_data_in_parallel\n",
      "    future.result()  # We can use this to raise exceptions if any occurred in the threads\n",
      "    ^^^^^^^^^^^^^^^\n",
      "  File \"/usr/lib64/python3.12/concurrent/futures/_base.py\", line 449, in result\n",
      "    return self.__get_result()\n",
      "           ^^^^^^^^^^^^^^^^^^^\n",
      "  File \"/usr/lib64/python3.12/concurrent/futures/_base.py\", line 401, in __get_result\n",
      "    raise self._exception\n",
      "  File \"/usr/lib64/python3.12/concurrent/futures/thread.py\", line 58, in run\n",
      "    result = self.fn(*self.args, **self.kwargs)\n",
      "             ^^^^^^^^^^^^^^^^^^^^^^^^^^^^^^^^^^\n",
      "  File \"/tmp/ipykernel_637815/2288641554.py\", line 27, in extract_data_from_pdf\n",
      "    tokens = len(text.split())\n",
      "                 ^^^^^^^^^^\n",
      "AttributeError: 'NoneType' object has no attribute 'split'\n"
     ]
    },
    {
     "name": "stdout",
     "output_type": "stream",
     "text": [
      "Extracting data from 1790475689001_DocumentosGenerales_Oficio Nombramiento Administradores_2014-09-08_TURCATTI MARIA JULIANA_PRESIDENTE.pdf\n",
      "Extracting data from 1790475689001_DocumentosGenerales_Oficio Nombramiento Administradores_2010-04-30_PAREDES ALONSO MIGUEL_PRESIDENTE.pdf\n",
      "(1, 'Estimating resolution as 163 Too few characters. Skipping this page Warning. Invalid resolution 0 dpi. Using 70 instead. Too few characters. Skipping this page Error during processing.')\n",
      "Exception in thread: 'NoneType' object has no attribute 'split'\n"
     ]
    },
    {
     "name": "stderr",
     "output_type": "stream",
     "text": [
      "Traceback (most recent call last):\n",
      "  File \"/tmp/ipykernel_637815/2258620412.py\", line 9, in process_pdf_data_in_parallel\n",
      "    future.result()  # We can use this to raise exceptions if any occurred in the threads\n",
      "    ^^^^^^^^^^^^^^^\n",
      "  File \"/usr/lib64/python3.12/concurrent/futures/_base.py\", line 449, in result\n",
      "    return self.__get_result()\n",
      "           ^^^^^^^^^^^^^^^^^^^\n",
      "  File \"/usr/lib64/python3.12/concurrent/futures/_base.py\", line 401, in __get_result\n",
      "    raise self._exception\n",
      "  File \"/usr/lib64/python3.12/concurrent/futures/thread.py\", line 58, in run\n",
      "    result = self.fn(*self.args, **self.kwargs)\n",
      "             ^^^^^^^^^^^^^^^^^^^^^^^^^^^^^^^^^^\n",
      "  File \"/tmp/ipykernel_637815/2288641554.py\", line 27, in extract_data_from_pdf\n",
      "    tokens = len(text.split())\n",
      "                 ^^^^^^^^^^\n",
      "AttributeError: 'NoneType' object has no attribute 'split'\n"
     ]
    },
    {
     "name": "stdout",
     "output_type": "stream",
     "text": [
      "Extracting data from 1791412540001_DocumentosGenerales_Oficio Nombramiento Administradores_2016-03-07_SARAVIA ANA_GERENTE GENERAL.pdf\n",
      "(1, 'Estimating resolution as 131 Too few characters. Skipping this page Warning. Invalid resolution 0 dpi. Using 70 instead. Too few characters. Skipping this page Error during processing.')\n",
      "Exception in thread: 'NoneType' object has no attribute 'split'\n"
     ]
    },
    {
     "name": "stderr",
     "output_type": "stream",
     "text": [
      "Traceback (most recent call last):\n",
      "  File \"/tmp/ipykernel_637815/2258620412.py\", line 9, in process_pdf_data_in_parallel\n",
      "    future.result()  # We can use this to raise exceptions if any occurred in the threads\n",
      "    ^^^^^^^^^^^^^^^\n",
      "  File \"/usr/lib64/python3.12/concurrent/futures/_base.py\", line 449, in result\n",
      "    return self.__get_result()\n",
      "           ^^^^^^^^^^^^^^^^^^^\n",
      "  File \"/usr/lib64/python3.12/concurrent/futures/_base.py\", line 401, in __get_result\n",
      "    raise self._exception\n",
      "  File \"/usr/lib64/python3.12/concurrent/futures/thread.py\", line 58, in run\n",
      "    result = self.fn(*self.args, **self.kwargs)\n",
      "             ^^^^^^^^^^^^^^^^^^^^^^^^^^^^^^^^^^\n",
      "  File \"/tmp/ipykernel_637815/2288641554.py\", line 27, in extract_data_from_pdf\n",
      "    tokens = len(text.split())\n",
      "                 ^^^^^^^^^^\n",
      "AttributeError: 'NoneType' object has no attribute 'split'\n"
     ]
    },
    {
     "name": "stdout",
     "output_type": "stream",
     "text": [
      "(1, 'Estimating resolution as 581 Too few characters. Skipping this page Warning. Invalid resolution 0 dpi. Using 70 instead. Too few characters. Skipping this page Error during processing.')\n",
      "Exception in thread: 'NoneType' object has no attribute 'split'\n"
     ]
    },
    {
     "name": "stderr",
     "output_type": "stream",
     "text": [
      "Traceback (most recent call last):\n",
      "  File \"/tmp/ipykernel_637815/2258620412.py\", line 9, in process_pdf_data_in_parallel\n",
      "    future.result()  # We can use this to raise exceptions if any occurred in the threads\n",
      "    ^^^^^^^^^^^^^^^\n",
      "  File \"/usr/lib64/python3.12/concurrent/futures/_base.py\", line 449, in result\n",
      "    return self.__get_result()\n",
      "           ^^^^^^^^^^^^^^^^^^^\n",
      "  File \"/usr/lib64/python3.12/concurrent/futures/_base.py\", line 401, in __get_result\n",
      "    raise self._exception\n",
      "  File \"/usr/lib64/python3.12/concurrent/futures/thread.py\", line 58, in run\n",
      "    result = self.fn(*self.args, **self.kwargs)\n",
      "             ^^^^^^^^^^^^^^^^^^^^^^^^^^^^^^^^^^\n",
      "  File \"/tmp/ipykernel_637815/2288641554.py\", line 27, in extract_data_from_pdf\n",
      "    tokens = len(text.split())\n",
      "                 ^^^^^^^^^^\n",
      "AttributeError: 'NoneType' object has no attribute 'split'\n"
     ]
    },
    {
     "name": "stdout",
     "output_type": "stream",
     "text": [
      "Text size: 59\n",
      "Not enough text in 1791412540001_DocumentosGenerales_Oficio Nombramiento Administradores_2016-03-07_SARAVIA ANA_GERENTE GENERAL.pdf\n",
      "Extracting data from 2390019265001_DocumentosGenerales_Oficio Nombramiento Administradores_2019-03-13_PEREZ ATIENCIA GALO EFRAIN_PRESIDENTE.pdf\n",
      "(1, 'Warning. Invalid resolution 0 dpi. Using 70 instead. Too few characters. Skipping this page Error during processing.')\n",
      "Exception in thread: 'NoneType' object has no attribute 'split'\n",
      "Extracting data from 1791167058001_DocumentosGenerales_Oficio Nombramiento Administradores_2019-12-13_DAVILA PAREDES FRANCISCO FERNANDO_GERENTE GENERAL.pdf\n"
     ]
    },
    {
     "name": "stderr",
     "output_type": "stream",
     "text": [
      "Traceback (most recent call last):\n",
      "  File \"/tmp/ipykernel_637815/2258620412.py\", line 9, in process_pdf_data_in_parallel\n",
      "    future.result()  # We can use this to raise exceptions if any occurred in the threads\n",
      "    ^^^^^^^^^^^^^^^\n",
      "  File \"/usr/lib64/python3.12/concurrent/futures/_base.py\", line 449, in result\n",
      "    return self.__get_result()\n",
      "           ^^^^^^^^^^^^^^^^^^^\n",
      "  File \"/usr/lib64/python3.12/concurrent/futures/_base.py\", line 401, in __get_result\n",
      "    raise self._exception\n",
      "  File \"/usr/lib64/python3.12/concurrent/futures/thread.py\", line 58, in run\n",
      "    result = self.fn(*self.args, **self.kwargs)\n",
      "             ^^^^^^^^^^^^^^^^^^^^^^^^^^^^^^^^^^\n",
      "  File \"/tmp/ipykernel_637815/2288641554.py\", line 27, in extract_data_from_pdf\n",
      "    tokens = len(text.split())\n",
      "                 ^^^^^^^^^^\n",
      "AttributeError: 'NoneType' object has no attribute 'split'\n"
     ]
    },
    {
     "name": "stdout",
     "output_type": "stream",
     "text": [
      "Extracting data from 1790279901001_DocumentosGenerales_Oficio Nombramiento Administradores_2022-06-22_GOLDEN-REPRESENTACIONES C.L._GERENTE GENERAL.pdf\n",
      "(1, 'Warning. Invalid resolution 0 dpi. Using 70 instead. Too few characters. Skipping this page Error during processing.')\n",
      "Exception in thread: 'NoneType' object has no attribute 'split'\n",
      "Extracting data from 0992248033001_DocumentosGenerales_Oficio Nombramiento Administradores_2015-01-16_DAHIK AYOUB MARIA VERONICA_GERENTE GENERAL.pdf\n",
      "Extracting data from 0992248033001_DocumentosGenerales_Oficio Nombramiento Administradores_2015-01-16_DAHIK AYOUB MARIO ALEJANDRO_PRESIDENTE.pdf\n"
     ]
    },
    {
     "name": "stderr",
     "output_type": "stream",
     "text": [
      "Traceback (most recent call last):\n",
      "  File \"/tmp/ipykernel_637815/2258620412.py\", line 9, in process_pdf_data_in_parallel\n",
      "    future.result()  # We can use this to raise exceptions if any occurred in the threads\n",
      "    ^^^^^^^^^^^^^^^\n",
      "  File \"/usr/lib64/python3.12/concurrent/futures/_base.py\", line 449, in result\n",
      "    return self.__get_result()\n",
      "           ^^^^^^^^^^^^^^^^^^^\n",
      "  File \"/usr/lib64/python3.12/concurrent/futures/_base.py\", line 401, in __get_result\n",
      "    raise self._exception\n",
      "  File \"/usr/lib64/python3.12/concurrent/futures/thread.py\", line 58, in run\n",
      "    result = self.fn(*self.args, **self.kwargs)\n",
      "             ^^^^^^^^^^^^^^^^^^^^^^^^^^^^^^^^^^\n",
      "  File \"/tmp/ipykernel_637815/2288641554.py\", line 27, in extract_data_from_pdf\n",
      "    tokens = len(text.split())\n",
      "                 ^^^^^^^^^^\n",
      "AttributeError: 'NoneType' object has no attribute 'split'\n"
     ]
    },
    {
     "name": "stdout",
     "output_type": "stream",
     "text": [
      "Text size: 20\n",
      "Not enough text in 0992248033001_DocumentosGenerales_Oficio Nombramiento Administradores_2015-01-16_DAHIK AYOUB MARIO ALEJANDRO_PRESIDENTE.pdf\n",
      "Extracting data from 0991332901001_DocumentosGenerales_Oficio Nombramiento Administradores_2014-10-27_FLORES GALLARDO FERNANDO ENRIQUE_VICEPRESIDENTE.pdf\n",
      "Text size: 38\n",
      "Not enough text in 1791167058001_DocumentosGenerales_Oficio Nombramiento Administradores_2019-12-13_DAVILA PAREDES FRANCISCO FERNANDO_GERENTE GENERAL.pdf\n",
      "Text size: 56\n",
      "Not enough text in 0992248033001_DocumentosGenerales_Oficio Nombramiento Administradores_2015-01-16_DAHIK AYOUB MARIA VERONICA_GERENTE GENERAL.pdf\n",
      "Extracting data from 1390142389001_DocumentosGenerales_Oficio Nombramiento Administradores_2017-11-08_ISAIAS BUCARAM PEDRO VICENTE_PRESIDENTE.pdf\n",
      "Extracting data from 1391898800001_DocumentosGenerales_Oficio Nombramiento Administradores_2021-04-12_TERAN DAMMER SANTIAGO FRANCISCO_PRESIDENTE.pdf\n",
      "Unable to get page count.\n",
      "Syntax Error (123): Illegal character ')'\n",
      "Syntax Error: Couldn't find trailer dictionary\n",
      "Syntax Error: Catalog object is wrong type (stream)\n",
      "Syntax Error: Couldn't read page catalog\n",
      "\n",
      "Exception in thread: 'NoneType' object has no attribute 'split'\n",
      "Extracting data from 0990034958001_DocumentosGenerales_Oficio Nombramiento Administradores_2010-02-12_VELEZ ARANGO CARLOS ARTURO_GERENTE GENERAL.pdf\n"
     ]
    },
    {
     "name": "stderr",
     "output_type": "stream",
     "text": [
      "Traceback (most recent call last):\n",
      "  File \"/tmp/ipykernel_637815/2258620412.py\", line 9, in process_pdf_data_in_parallel\n",
      "    future.result()  # We can use this to raise exceptions if any occurred in the threads\n",
      "    ^^^^^^^^^^^^^^^\n",
      "  File \"/usr/lib64/python3.12/concurrent/futures/_base.py\", line 449, in result\n",
      "    return self.__get_result()\n",
      "           ^^^^^^^^^^^^^^^^^^^\n",
      "  File \"/usr/lib64/python3.12/concurrent/futures/_base.py\", line 401, in __get_result\n",
      "    raise self._exception\n",
      "  File \"/usr/lib64/python3.12/concurrent/futures/thread.py\", line 58, in run\n",
      "    result = self.fn(*self.args, **self.kwargs)\n",
      "             ^^^^^^^^^^^^^^^^^^^^^^^^^^^^^^^^^^\n",
      "  File \"/tmp/ipykernel_637815/2288641554.py\", line 27, in extract_data_from_pdf\n",
      "    tokens = len(text.split())\n",
      "                 ^^^^^^^^^^\n",
      "AttributeError: 'NoneType' object has no attribute 'split'\n"
     ]
    },
    {
     "name": "stdout",
     "output_type": "stream",
     "text": [
      "(1, 'Estimating resolution as 427 Too few characters. Skipping this page Warning. Invalid resolution 0 dpi. Using 70 instead. Too few characters. Skipping this page Error during processing.')\n",
      "Exception in thread: 'NoneType' object has no attribute 'split'\n"
     ]
    },
    {
     "name": "stderr",
     "output_type": "stream",
     "text": [
      "Traceback (most recent call last):\n",
      "  File \"/tmp/ipykernel_637815/2258620412.py\", line 9, in process_pdf_data_in_parallel\n",
      "    future.result()  # We can use this to raise exceptions if any occurred in the threads\n",
      "    ^^^^^^^^^^^^^^^\n",
      "  File \"/usr/lib64/python3.12/concurrent/futures/_base.py\", line 449, in result\n",
      "    return self.__get_result()\n",
      "           ^^^^^^^^^^^^^^^^^^^\n",
      "  File \"/usr/lib64/python3.12/concurrent/futures/_base.py\", line 401, in __get_result\n",
      "    raise self._exception\n",
      "  File \"/usr/lib64/python3.12/concurrent/futures/thread.py\", line 58, in run\n",
      "    result = self.fn(*self.args, **self.kwargs)\n",
      "             ^^^^^^^^^^^^^^^^^^^^^^^^^^^^^^^^^^\n",
      "  File \"/tmp/ipykernel_637815/2288641554.py\", line 27, in extract_data_from_pdf\n",
      "    tokens = len(text.split())\n",
      "                 ^^^^^^^^^^\n",
      "AttributeError: 'NoneType' object has no attribute 'split'\n"
     ]
    },
    {
     "name": "stdout",
     "output_type": "stream",
     "text": [
      "(1, 'Warning. Invalid resolution 0 dpi. Using 70 instead. Too few characters. Skipping this page Error during processing.')\n",
      "Exception in thread: 'NoneType' object has no attribute 'split'\n"
     ]
    },
    {
     "name": "stderr",
     "output_type": "stream",
     "text": [
      "Traceback (most recent call last):\n",
      "  File \"/tmp/ipykernel_637815/2258620412.py\", line 9, in process_pdf_data_in_parallel\n",
      "    future.result()  # We can use this to raise exceptions if any occurred in the threads\n",
      "    ^^^^^^^^^^^^^^^\n",
      "  File \"/usr/lib64/python3.12/concurrent/futures/_base.py\", line 449, in result\n",
      "    return self.__get_result()\n",
      "           ^^^^^^^^^^^^^^^^^^^\n",
      "  File \"/usr/lib64/python3.12/concurrent/futures/_base.py\", line 401, in __get_result\n",
      "    raise self._exception\n",
      "  File \"/usr/lib64/python3.12/concurrent/futures/thread.py\", line 58, in run\n",
      "    result = self.fn(*self.args, **self.kwargs)\n",
      "             ^^^^^^^^^^^^^^^^^^^^^^^^^^^^^^^^^^\n",
      "  File \"/tmp/ipykernel_637815/2288641554.py\", line 27, in extract_data_from_pdf\n",
      "    tokens = len(text.split())\n",
      "                 ^^^^^^^^^^\n",
      "AttributeError: 'NoneType' object has no attribute 'split'\n"
     ]
    },
    {
     "name": "stdout",
     "output_type": "stream",
     "text": [
      "Extracting data from 0991307605001_DocumentosGenerales_Oficio Nombramiento Administradores_2022-09-28_CHOEZ MARQUEZ FERGIE DAYANA_APODERADO ESPECIAL DE LA SUCURSAL DE QUITO.pdfExtracting data from 0991307605001_DocumentosGenerales_Oficio Nombramiento Administradores_2020-02-13_ALMEIDA POLO DENISSE DEL ALBA_APODERADO ESPECIAL DE LA SUCURSAL DE QUITO.pdf\n",
      "\n",
      "(1, 'Warning. Invalid resolution 0 dpi. Using 70 instead. Too few characters. Skipping this page Error during processing.')\n",
      "Exception in thread: 'NoneType' object has no attribute 'split'\n"
     ]
    },
    {
     "name": "stderr",
     "output_type": "stream",
     "text": [
      "Traceback (most recent call last):\n",
      "  File \"/tmp/ipykernel_637815/2258620412.py\", line 9, in process_pdf_data_in_parallel\n",
      "    future.result()  # We can use this to raise exceptions if any occurred in the threads\n",
      "    ^^^^^^^^^^^^^^^\n",
      "  File \"/usr/lib64/python3.12/concurrent/futures/_base.py\", line 449, in result\n",
      "    return self.__get_result()\n",
      "           ^^^^^^^^^^^^^^^^^^^\n",
      "  File \"/usr/lib64/python3.12/concurrent/futures/_base.py\", line 401, in __get_result\n",
      "    raise self._exception\n",
      "  File \"/usr/lib64/python3.12/concurrent/futures/thread.py\", line 58, in run\n",
      "    result = self.fn(*self.args, **self.kwargs)\n",
      "             ^^^^^^^^^^^^^^^^^^^^^^^^^^^^^^^^^^\n",
      "  File \"/tmp/ipykernel_637815/2288641554.py\", line 27, in extract_data_from_pdf\n",
      "    tokens = len(text.split())\n",
      "                 ^^^^^^^^^^\n",
      "AttributeError: 'NoneType' object has no attribute 'split'\n"
     ]
    },
    {
     "name": "stdout",
     "output_type": "stream",
     "text": [
      "Extracting data from 1790991334001_DocumentosGenerales_Oficio Nombramiento Administradores_2017-12-14_LOPEZ DONOSO HUGO FRANCISCO_APODERADO GENERAL.pdf\n"
     ]
    }
   ],
   "source": [
    "# Multithreading implementation\n",
    "def process_pdf_data_in_parallel(df, collection, max_workers=5):\n",
    "    with concurrent.futures.ThreadPoolExecutor(max_workers=max_workers) as executor:\n",
    "        # Submit tasks for each row to the executor, passing the collection explicitly\n",
    "        futures = [executor.submit(extract_data_from_pdf, row, collection, pdf_op, OficioNombramientoAdministradores) for _, row in df.iterrows()]\n",
    "        # Optionally, you can handle results or exceptions here\n",
    "        for future in concurrent.futures.as_completed(futures):\n",
    "            try:\n",
    "                future.result()  # We can use this to raise exceptions if any occurred in the threads\n",
    "            except Exception as e:\n",
    "                # remove row from df if error\n",
    "                print(f\"Exception in thread: {e}\")\n",
    "                traceback.print_exc()\n",
    "\n",
    "\n",
    "# Adjust the number of threads as needed\n",
    "max_threads = 10  # Example: Use 5 threads\n",
    "\n",
    "# Execute the function with multithreading, passing the collection explicitly\n",
    "process_pdf_data_in_parallel(df_oficio_nombramiento_administradores, collection, max_threads)"
   ]
  }
 ],
 "metadata": {
  "kernelspec": {
   "display_name": "terac-sYctsPSc",
   "language": "python",
   "name": "python3"
  },
  "language_info": {
   "codemirror_mode": {
    "name": "ipython",
    "version": 3
   },
   "file_extension": ".py",
   "mimetype": "text/x-python",
   "name": "python",
   "nbconvert_exporter": "python",
   "pygments_lexer": "ipython3",
   "version": "3.12.6"
  }
 },
 "nbformat": 4,
 "nbformat_minor": 5
}
