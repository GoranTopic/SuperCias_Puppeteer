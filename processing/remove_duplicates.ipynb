{
 "cells": [
  {
   "cell_type": "markdown",
   "id": "fb037365",
   "metadata": {},
   "source": [
    "# find and remove all duplicates\n",
    "### We need to know if any company is a duplicate"
   ]
  },
  {
   "cell_type": "code",
   "execution_count": 2,
   "id": "d5aee10a",
   "metadata": {},
   "outputs": [],
   "source": [
    "packages = ['pymongo', 'gridfs', 'pandas']\n",
    "for package in packages:\n",
    "    try:\n",
    "        __import__(package)\n",
    "    except ImportError:\n",
    "        !pip install {package}\n",
    "\n",
    "import os\n",
    "from pymongo import MongoClient\n",
    "import pandas as pd\n",
    "#endpoint = '10.0.10.5:27017' # use vpn\n",
    "endpoint = '192.168.1.10:27017'\n",
    "#endpoint = '192.168.229.55:27017'\n",
    "database = 'supercias'\n",
    "collection = 'companies'\n",
    "# Connect to MongoDB\n",
    "db = MongoClient('mongodb://'+endpoint)[database]\n",
    "# get collection\n",
    "collection = db[collection]\n",
    "#find pdf file\n",
    "companies_cursor = collection.find()"
   ]
  },
  {
   "cell_type": "markdown",
   "id": "a81cb478",
   "metadata": {},
   "source": [
    "check if we have any duplicates left"
   ]
  },
  {
   "cell_type": "code",
   "execution_count": 3,
   "id": "1184c5a3",
   "metadata": {},
   "outputs": [
    {
     "name": "stdout",
     "output_type": "stream",
     "text": [
      "No duplicate records found based on the 'ruc' field.\n"
     ]
    }
   ],
   "source": [
    "pipeline = [\n",
    "    {\"$group\": {\n",
    "        \"_id\": \"$ruc\",  # Group by 'ruc' field\n",
    "        \"count\": {\"$sum\": 1}  # Count occurrences of each 'rus' value\n",
    "    }},\n",
    "    {\"$match\": {\n",
    "        \"count\": {\"$gt\": 1}  # Find only groups with more than 1 occurrence\n",
    "    }}\n",
    "]\n",
    "\n",
    "# Execute the aggregation query\n",
    "duplicates = list(collection.aggregate(pipeline))\n",
    "\n",
    "# Output duplicate entries\n",
    "if duplicates:\n",
    "    print(\"Duplicate records found:\")\n",
    "    for doc in duplicates:\n",
    "        print(f\"ruc: {doc['_id']}, count: {doc['count']}\")\n",
    "else:\n",
    "    print(\"No duplicate records found based on the 'ruc' field.\")\n",
    "\n"
   ]
  },
  {
   "cell_type": "markdown",
   "id": "782f3681",
   "metadata": {},
   "source": [
    "Merge all of the companies found, create a new object and delete all other ones."
   ]
  },
  {
   "cell_type": "code",
   "execution_count": 25,
   "id": "39b041fd",
   "metadata": {},
   "outputs": [
    {
     "name": "stdout",
     "output_type": "stream",
     "text": [
      "No Documentos online found\n",
      "0990331014001\n",
      "No Documentos online found\n",
      "0991283765001\n",
      "No Documentos online found\n",
      "0190004937001\n",
      "No Documentos online found\n",
      "0190152588001\n",
      "No Documentos online found\n",
      "1791288246001\n",
      "No Documentos online found\n",
      "1791278410001\n",
      "No Documentos online found\n",
      "1791397398001\n",
      "No Documentos online found\n",
      "0990872511001\n",
      "No Documentos online found\n",
      "0992717955001\n",
      "No Documentos online found\n",
      "0990856125001\n",
      "No Documentos online found\n",
      "1790685411001\n",
      "No Documentos online found\n",
      "0992797827001\n",
      "No Documentos online found\n",
      "0791746051001\n",
      "No Documentos online found\n",
      "0992255412001\n",
      "No Documentos online found\n",
      "0490001026001\n",
      "No Documentos online found\n",
      "1791800486001\n",
      "No Documentos online found\n",
      "0790013360001\n",
      "No Documentos online found\n",
      "0190439569001\n",
      "No Documentos online found\n",
      "0992925825001\n",
      "No Documentos online found\n",
      "1792761557001\n",
      "No Documentos online found\n",
      "0990019606001\n",
      "No Documentos online found\n",
      "0992716525001\n",
      "No Documentos online found\n",
      "0993312029001\n",
      "No Documentos online found\n",
      "0992369922001\n",
      "No Documentos online found\n",
      "0993269832001\n",
      "No Documentos online found\n",
      "2390000068001\n",
      "No Documentos online found\n",
      "1791065093001\n",
      "No Documentos online found\n",
      "0991103171001\n",
      "No Documentos online found\n",
      "0992262516001\n",
      "No Documentos online found\n",
      "0992527749001\n",
      "No Documentos online found\n",
      "0190427056001\n",
      "No Documentos online found\n",
      "0990871434001\n",
      "No Documentos online found\n",
      "1792624762001\n",
      "No Documentos online found\n",
      "0992968117001\n",
      "No Documentos online found\n",
      "1791344316001\n",
      "No Documentos online found\n",
      "1792299586001\n",
      "No Documentos online found\n",
      "1791855744001\n",
      "No Documentos online found\n",
      "0992816465001\n",
      "No Documentos online found\n",
      "1791356047001\n",
      "No Documentos online found\n",
      "1791903013001\n",
      "No Documentos online found\n",
      "0991444831001\n"
     ]
    }
   ],
   "source": [
    "# reset cursor\n",
    "companies_cursor = collection.find()\n",
    "# function that merges dictonaries\n",
    "def merge_dicts(dicts):\n",
    "    merged = {}\n",
    "    for d in dicts:\n",
    "        merged.update(d)\n",
    "    return merged\n",
    "\n",
    "# loop through all companies and get all unique rucs\n",
    "companies_rucs = []\n",
    "for comp in companies_cursor:\n",
    "    if comp['ruc'] not in companies_rucs:\n",
    "        companies_rucs.append(comp['ruc'])\n",
    "\n",
    "# find all the companies duplicates which have the same ruc \n",
    "for ruc in companies_rucs:\n",
    "    # query by ruc value\n",
    "    query = collection.find({'ruc': ruc})\n",
    "    # for every record in the query\n",
    "    merged_record = {}\n",
    "    for record in query: \n",
    "        # merge all the records\n",
    "        merged_record = merge_dicts([record, merged_record])\n",
    "        # delete the record from the collection\n",
    "        collection.delete_one({'_id': record['_id']})\n",
    "    # delete the _id from the merged record\n",
    "    del merged_record['_id']\n",
    "    # insert the merged record\n",
    "    collection.insert_one(merged_record)"
   ]
  }
 ],
 "metadata": {
  "kernelspec": {
   "display_name": "Python 3 (ipykernel)",
   "language": "python",
   "name": "python3"
  },
  "language_info": {
   "codemirror_mode": {
    "name": "ipython",
    "version": 3
   },
   "file_extension": ".py",
   "mimetype": "text/x-python",
   "name": "python",
   "nbconvert_exporter": "python",
   "pygments_lexer": "ipython3",
   "version": "3.12.5"
  }
 },
 "nbformat": 4,
 "nbformat_minor": 5
}
