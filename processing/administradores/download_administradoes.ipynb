{
 "cells": [
  {
   "cell_type": "markdown",
   "id": "fb037365",
   "metadata": {},
   "source": [
    "## Extract the file for administradores\n",
    "#### Connect to mongodb and make sure we have access to the pdf files"
   ]
  },
  {
   "cell_type": "code",
   "execution_count": 1,
   "id": "d5aee10a",
   "metadata": {},
   "outputs": [],
   "source": [
    "packages = ['pandas', 'pymongo', 'gridfs', 'concurrent.futures']\n",
    "for package in packages:\n",
    "    try:\n",
    "        __import__(package)\n",
    "    except ImportError:\n",
    "        !pip install {package}\n",
    "\n",
    "from pymongo import MongoClient\n",
    "from gridfs import GridFS\n",
    "from concurrent.futures import ThreadPoolExecutor\n",
    "# we run this so that we can access relative paths\n",
    "import os, sys\n",
    "parent_dir = os.path.abspath('..')\n",
    "if parent_dir not in sys.path: sys.path.append(parent_dir)\n",
    "from functions.GridFsFileOperations import GridFsFileOperations\n",
    "\n",
    "endpoint = '10.0.10.5:27017'\n",
    "#endpoint = '192.168.1.10:27017'\n",
    "database = 'supercias'\n",
    "collection_actuales = 'administradores_actuales'\n",
    "collection_anterioes = 'administradores_anteriores'\n",
    "path_actuales = '../../storage/administradores_actuales/'\n",
    "path_anteriores = '../../storage/administradores_anteriores/'\n",
    "\n",
    "# Connect to MongoDB\n",
    "db = MongoClient('mongodb://'+endpoint)[database]\n",
    "# Create instance of GridFsFileOperations\n",
    "filesActuales = GridFsFileOperations(db, collection_actuales, path_actuales)\n",
    "filesAnteriores = GridFsFileOperations(db, collection_anterioes, path_anteriores)"
   ]
  },
  {
   "cell_type": "markdown",
   "id": "765101ec",
   "metadata": {},
   "source": [
    "Download every fiel that matches the filename"
   ]
  },
  {
   "cell_type": "code",
   "execution_count": 2,
   "id": "fce06ae2",
   "metadata": {},
   "outputs": [
    {
     "name": "stdout",
     "output_type": "stream",
     "text": [
      "found 1 files de administradores actuales\n",
      "found 1 files de administradores anteriores\n"
     ]
    }
   ],
   "source": [
    "filename = \"1791251237001.pdf\"\n",
    "filename = \"0190003809001.pdf\"\n",
    "\n",
    "# get all files\n",
    "files_actuales = filesActuales.get_files_list(filename)\n",
    "print('found', len(files_actuales), 'files de administradores actuales')\n",
    "files_anteriores = filesAnteriores.get_files_list(filename)\n",
    "print('found', len(files_anteriores), 'files de administradores anteriores')\n",
    "\n",
    "for file in files_actuales:\n",
    "    filesActuales.write_to_disk(file)\n",
    "for file in files_anteriores:\n",
    "    filesAnteriores.write_to_disk(file)"
   ]
  }
 ],
 "metadata": {
  "kernelspec": {
   "display_name": ".venv",
   "language": "python",
   "name": "python3"
  },
  "language_info": {
   "codemirror_mode": {
    "name": "ipython",
    "version": 3
   },
   "file_extension": ".py",
   "mimetype": "text/x-python",
   "name": "python",
   "nbconvert_exporter": "python",
   "pygments_lexer": "ipython3",
   "version": "3.12.3"
  }
 },
 "nbformat": 4,
 "nbformat_minor": 5
}
