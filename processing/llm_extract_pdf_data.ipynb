{
 "cells": [
  {
   "cell_type": "markdown",
   "id": "fb037365",
   "metadata": {},
   "source": [
    "# Read PDF information with LLMs\n",
    "### let's test how good it the LLMs at extracting information from pdfs"
   ]
  },
  {
   "cell_type": "code",
   "execution_count": 1,
   "id": "d5aee10a",
   "metadata": {},
   "outputs": [
    {
     "name": "stdout",
     "output_type": "stream",
     "text": [
      "Defaulting to user installation because normal site-packages is not writeable\n",
      "Requirement already satisfied: python-dotenv in /usr/lib/python3.12/site-packages (1.0.1)\n",
      "this is the pdfs_path ../storage/pdfs/\n",
      "JNS HOLDING GROUP S.A.S.\n"
     ]
    }
   ],
   "source": [
    "packages = ['pymongo', 'gridfs', 'python-dotenv', 'openai']\n",
    "for package in packages:\n",
    "    try:\n",
    "        __import__(package)\n",
    "    except ImportError:\n",
    "        !pip install {package}\n",
    "\n",
    "import os\n",
    "from pymongo import MongoClient\n",
    "from functions.pdf_operations import PDFOperations\n",
    "\n",
    "#endpoint = '10.0.10.5:27017' # use vpn\n",
    "endpoint = '192.168.1.10:27017'\n",
    "#endpoint = '192.168.229.55:27017'\n",
    "database = 'supercias'\n",
    "collection = 'companies'\n",
    "pdfs_path = '../storage/pdfs/'\n",
    "# make dir path if it does not exist\n",
    "if not os.path.exists(pdfs_path):\n",
    "    os.makedirs(pdfs_path)\n",
    "\n",
    "# Connect to MongoDB\n",
    "db = MongoClient('mongodb://'+endpoint)[database]\n",
    "\n",
    "# pdf operator\n",
    "ops = PDFOperations(db, collection, pdfs_path)\n",
    "\n",
    "# get collection\n",
    "collection = db[collection]\n",
    "\n",
    "#find pdf file\n",
    "cursor = collection.find()\n",
    "# get the third company in the collection\n",
    "comp = cursor[480]\n",
    "print(comp['name'])\n",
    "\n",
    "\n",
    "# get all the file name fromt he company \n",
    "docs = comp['Documentos online']['downloaded']\n",
    "pdf_names = []\n",
    "#if company has documents\n",
    "for value in docs.values():\n",
    "    if isinstance(value, list) and len(value) > 0:\n",
    "        [ pdf_names.append(v) for v in value ]\n"
   ]
  },
  {
   "cell_type": "markdown",
   "id": "ced2ac88",
   "metadata": {},
   "source": [
    "Download an pdf file to make sure that it is working"
   ]
  },
  {
   "cell_type": "markdown",
   "id": "8f2a501d",
   "metadata": {},
   "source": [
    "Let's download and write all files from mongo"
   ]
  },
  {
   "cell_type": "code",
   "execution_count": 2,
   "id": "aad650a7",
   "metadata": {},
   "outputs": [
    {
     "name": "stdout",
     "output_type": "stream",
     "text": [
      "1793173071001_DocumentosGenerales_Formulario de actualización de datos_2021-10-25.pdf written to disk\n",
      "1793173071001_DocumentosGenerales_Formulario de actualización de datos_2022-06-26.pdf written to disk\n",
      "1793173071001_DocumentosGenerales_Razón de inscripción societaria nombramiento_2021-08-04_SANCHEZ ESPINOSA DE LOS MONTEROS ADRIANA MARIA_GERENTE GENERAL.pdf written to disk\n",
      "1793173071001_DocumentosGenerales_Nombramiento SAS_2021-08-04_SANCHEZ ESPINOSA DE LOS MONTEROS ADRIANA MARIA_GERENTE GENERAL.pdf written to disk\n",
      "1793173071001_DocumentosGenerales_Formulario de actualización de datos_2022-01-26.pdf written to disk\n",
      "1793173071001_DocumentosGenerales_Razón de inscripción societaria nombramiento_2021-08-04_ESPINOSA DE LOS MONTEROS ROSERO SARA MARIA_PRESIDENTE.pdf written to disk\n",
      "1793173071001_DocumentosGenerales_Nombramiento SAS_2021-08-04_ESPINOSA DE LOS MONTEROS ROSERO SARA MARIA_PRESIDENTE.pdf written to disk\n",
      "1793173071001_DocumentosJuridicos_CONSTITUCION ELECTRONICA SAS_Razón de inscripción societaria constitución_2021-08-04.pdf written to disk\n",
      "1793173071001_DocumentosJuridicos_CONSTITUCION ELECTRONICA SAS_Anexo de Legalidad_2021-08-04.pdf written to disk\n",
      "1793173071001_DocumentosJuridicos_AUMENTO DE CAPITAL, CAMBIO DE OBJETO SOCIAL_Razón de inscripción societaria constitución_2024-06-19.pdf written to disk\n",
      "1793173071001_DocumentosJuridicos_AUMENTO DE CAPITAL, CAMBIO DE OBJETO SOCIAL_Extracto_2024-06-19.pdf written to disk\n",
      "1793173071001_DocumentosJuridicos_CONSTITUCION ELECTRONICA SAS_Contrato constitutivo_2021-08-04.pdf written to disk\n",
      "1793173071001_DocumentosJuridicos_AUMENTO DE CAPITAL, CAMBIO DE OBJETO SOCIAL_Documento Privado ó Escritura Pública_2024-06-19.pdf written to disk\n",
      "1793173071001_DocumentosJuridicos_AUMENTO DE CAPITAL, CAMBIO DE OBJETO SOCIAL_Resolución_2024-06-19.pdf written to disk\n",
      "1793173071001_DocumentosJuridicos_AUMENTO DE CAPITAL, CAMBIO DE OBJETO SOCIAL_Publicación_2024-06-19.pdf written to disk\n",
      "1793173071001_DocumentosEconomicos_Balance  Estado de Situación Financiera_2021-12-31.pdf written to disk\n",
      "1793173071001_DocumentosEconomicos_Informe de Gerente_2021-12-31.pdf written to disk\n",
      "1793173071001_DocumentosEconomicos_RUC_2021-12-31.pdf written to disk\n",
      "1793173071001_DocumentosEconomicos_Estado de Flujos de Efectivo_2021-12-31.pdf written to disk\n",
      "1793173071001_DocumentosEconomicos_Estado de Resultado Integral Consolidado_2021-12-31.pdf written to disk\n",
      "1793173071001_DocumentosEconomicos_Estado de Flujos de Efectivo Consolidado_2021-12-31.pdf written to disk\n",
      "1793173071001_DocumentosEconomicos_Acta de la Junta General_2021-12-31.pdf written to disk\n",
      "1793173071001_DocumentosEconomicos_Balance  Estado de Situación Financiera_2021-12-31.pdf written to disk\n",
      "1793173071001_DocumentosEconomicos_Informe de Gerente_2021-12-31.pdf written to disk\n",
      "1793173071001_DocumentosEconomicos_Estado de Resultado Integral_2021-12-31.pdf written to disk\n",
      "1793173071001_DocumentosEconomicos_Estado de Flujos de Efectivo_2021-12-31.pdf written to disk\n",
      "1793173071001_DocumentosEconomicos_Estado de Resultado Integral Consolidado_2021-12-31.pdf written to disk\n",
      "1793173071001_DocumentosEconomicos_Estado de Flujos de Efectivo Consolidado_2021-12-31.pdf written to disk\n",
      "1793173071001_DocumentosEconomicos_Acta de la Junta General_2021-12-31.pdf written to disk\n",
      "1793173071001_DocumentosEconomicos_Balance  Estado de Situación Financiera_2022-01-26.pdf written to disk\n",
      "1793173071001_DocumentosEconomicos_Nómina de Administradores_2022-01-26.pdf written to disk\n",
      "1793173071001_DocumentosEconomicos_Estado de Resultado Integral_2022-01-26.pdf written to disk\n",
      "1793173071001_DocumentosEconomicos_Asiento de Diario_2022-01-26.pdf written to disk\n",
      "1793173071001_DocumentosEconomicos_Auditoria Externa_2022-12-31.pdf written to disk\n",
      "1793173071001_DocumentosEconomicos_Informe de Gerente_2022-12-31.pdf written to disk\n",
      "1793173071001_DocumentosEconomicos_RUC_2022-12-31.pdf written to disk\n",
      "1793173071001_DocumentosEconomicos_Estado de Cambios en el Patrimonio_2022-12-31.pdf written to disk\n",
      "1793173071001_DocumentosEconomicos_Estado de Situación Financiera Consolidado_2022-12-31.pdf written to disk\n",
      "1793173071001_DocumentosEconomicos_Estado de Cambios en el Patrimonio Consolidado_2022-12-31.pdf written to disk\n",
      "1793173071001_DocumentosEconomicos_Notas a los Estados Financieros_2022-12-31.pdf written to disk\n",
      "1793173071001_DocumentosEconomicos_Informe de auditoría externa Consolidados_2022-12-31.pdf written to disk\n",
      "1793173071001_DocumentosEconomicos_Auditoria Externa_2023-12-31.pdf written to disk\n",
      "1793173071001_DocumentosEconomicos_Informe de Gerente_2023-12-31.pdf written to disk\n",
      "1793173071001_DocumentosEconomicos_RUC_2023-12-31.pdf written to disk\n",
      "1793173071001_DocumentosEconomicos_Estado de Cambios en el Patrimonio_2023-12-31.pdf written to disk\n",
      "1793173071001_DocumentosEconomicos_Estado de Situación Financiera Consolidado_2023-12-31.pdf written to disk\n",
      "1793173071001_DocumentosEconomicos_Estado de Cambios en el Patrimonio Consolidado_2023-12-31.pdf written to disk\n",
      "1793173071001_DocumentosEconomicos_Notas a los Estados Financieros_2023-12-31.pdf written to disk\n",
      "1793173071001_DocumentosEconomicos_Informe de auditoría externa Consolidados_2023-12-31.pdf written to disk\n",
      "1793173071001_DocumentosEconomicos_Nómina de Socios  Accionistas_2021-12-31.pdf written to disk\n",
      "1793173071001_DocumentosEconomicos_Nómina de Administradores_2021-12-31.pdf written to disk\n",
      "1793173071001_DocumentosEconomicos_Estado de Cambios en el Patrimonio_2021-12-31.pdf written to disk\n",
      "1793173071001_DocumentosEconomicos_Estado de Situación Financiera Consolidado_2021-12-31.pdf written to disk\n",
      "1793173071001_DocumentosEconomicos_Estado de Cambios en el Patrimonio Consolidado_2021-12-31.pdf written to disk\n",
      "1793173071001_DocumentosEconomicos_Notas a los Estados Financieros_2021-12-31.pdf written to disk\n",
      "1793173071001_DocumentosEconomicos_Informe de auditoría externa Consolidados_2021-12-31.pdf written to disk\n",
      "1793173071001_DocumentosEconomicos_Auditoria Externa_2021-12-31.pdf written to disk\n",
      "1793173071001_DocumentosEconomicos_RUC_2021-12-31.pdf written to disk\n",
      "1793173071001_DocumentosEconomicos_Estado de Cambios en el Patrimonio_2021-12-31.pdf written to disk\n",
      "1793173071001_DocumentosEconomicos_Estado de Situación Financiera Consolidado_2021-12-31.pdf written to disk\n",
      "1793173071001_DocumentosEconomicos_Estado de Cambios en el Patrimonio Consolidado_2021-12-31.pdf written to disk\n",
      "1793173071001_DocumentosEconomicos_Notas a los Estados Financieros_2021-12-31.pdf written to disk\n",
      "1793173071001_DocumentosEconomicos_Informe de auditoría externa Consolidados_2021-12-31.pdf written to disk\n",
      "1793173071001_DocumentosEconomicos_Nómina de Socios  Accionistas_2022-01-26.pdf written to disk\n",
      "1793173071001_DocumentosEconomicos_RUC_2022-01-26.pdf written to disk\n",
      "1793173071001_DocumentosEconomicos_Comprobante de Depósito_2022-01-26.pdf written to disk\n",
      "1793173071001_DocumentosEconomicos_Balance  Estado de Situación Financiera_2022-12-31.pdf written to disk\n",
      "1793173071001_DocumentosEconomicos_Nómina de Socios  Accionistas_2022-12-31.pdf written to disk\n",
      "1793173071001_DocumentosEconomicos_Nómina de Administradores_2022-12-31.pdf written to disk\n",
      "1793173071001_DocumentosEconomicos_Estado de Resultado Integral_2022-12-31.pdf written to disk\n",
      "\n",
      "1793173071001_DocumentosEconomicos_Estado de Flujos de Efectivo_2022-12-31.pdf written to disk\n",
      "1793173071001_DocumentosEconomicos_Estado de Resultado Integral Consolidado_2022-12-31.pdf written to disk\n",
      "1793173071001_DocumentosEconomicos_Estado de Flujos de Efectivo Consolidado_2022-12-31.pdf written to disk\n",
      "1793173071001_DocumentosEconomicos_Acta de la Junta General_2022-12-31.pdf written to disk\n",
      "1793173071001_DocumentosEconomicos_Balance  Estado de Situación Financiera_2023-12-31.pdf written to disk\n",
      "1793173071001_DocumentosEconomicos_Nómina de Socios  Accionistas_2023-12-31.pdf written to disk\n",
      "1793173071001_DocumentosEconomicos_Nómina de Administradores_2023-12-31.pdf written to disk\n",
      "1793173071001_DocumentosEconomicos_Estado de Resultado Integral_2023-12-31.pdf written to disk\n",
      "1793173071001_DocumentosEconomicos_Estado de Flujos de Efectivo_2023-12-31.pdf written to disk\n",
      "1793173071001_DocumentosEconomicos_Estado de Resultado Integral Consolidado_2023-12-31.pdf written to disk\n",
      "1793173071001_DocumentosEconomicos_Estado de Flujos de Efectivo Consolidado_2023-12-31.pdf written to disk\n",
      "1793173071001_DocumentosEconomicos_Acta de la Junta General_2023-12-31.pdf written to disk\n"
     ]
    }
   ],
   "source": [
    "for filename in pdf_names:\n",
    "    # write file to disk\n",
    "    ops.write_to_disk(filename)\n",
    "    print(f'{filename} written to disk')"
   ]
  },
  {
   "cell_type": "code",
   "execution_count": 3,
   "id": "1184c5a3",
   "metadata": {},
   "outputs": [],
   "source": [
    "import os\n",
    "usb_path = '/run/media/terac/KINGSTON/'\n",
    "dir_path = usb_path+comp['name']+'/'\n",
    "\n",
    "# make a directory with the name of the company\n",
    "#if not os.path.exists(dir_path):\n",
    "    #os.makedirs(dir_path)\n",
    "\n",
    "# Rest of the code\n",
    "#for filename in pdf_names:\n",
    "    #move(pdfs_path+filename, usb_path+comp['name']+'/'+filename)"
   ]
  },
  {
   "cell_type": "code",
   "execution_count": 4,
   "id": "b864b877",
   "metadata": {},
   "outputs": [
    {
     "name": "stdout",
     "output_type": "stream",
     "text": [
      "../storage/pdfs/1793173071001_DocumentosGenerales_Razón de inscripción societaria nombramiento_2021-08-04_SANCHEZ ESPINOSA DE LOS MONTEROS ADRIANA MARIA_GERENTE GENERAL.pdf\n",
      "None\n"
     ]
    }
   ],
   "source": [
    "from functions.parse_supercias_forms import parse_pdf\n",
    "\n",
    "# Example usage\n",
    "filename = pdfs_path + pdf_names[2]\n",
    "print(filename)\n",
    "financial_data = parse_pdf(filename)\n",
    "print(financial_data)\n"
   ]
  },
  {
   "cell_type": "code",
   "execution_count": 5,
   "id": "39b041fd",
   "metadata": {},
   "outputs": [],
   "source": [
    "# delete file from disk\n",
    "#for filename in pdf_names:\n",
    "    # delete file from disk\n",
    "    #ops.delete_from_disk(filename)\n",
    "    #print(f'{filename} deleted from disk')"
   ]
  },
  {
   "cell_type": "markdown",
   "id": "8e2ff5c4",
   "metadata": {},
   "source": [
    "Make sure that the the openai api is workig correcly"
   ]
  },
  {
   "cell_type": "code",
   "execution_count": 6,
   "metadata": {},
   "outputs": [
    {
     "name": "stdout",
     "output_type": "stream",
     "text": [
      "True\n"
     ]
    }
   ],
   "source": [
    "from functions.prompt_openai import test_openai\n",
    "print(test_openai())"
   ]
  },
  {
   "cell_type": "markdown",
   "id": "1a0a7601",
   "metadata": {},
   "source": [
    "uploading the pdf dirrecly to openai is not possible. it is not able to extract the data as of today (2024-09-02). \n",
    "\n",
    "So we need to extract the text first."
   ]
  },
  {
   "cell_type": "code",
   "execution_count": 7,
   "id": "29ca8388",
   "metadata": {},
   "outputs": [
    {
     "name": "stdout",
     "output_type": "stream",
     "text": [
      "SUPERINTENDENCIA\n",
      "\n",
      "JAS, VALORES Y SEGUROS\n",
      "\n"
     ]
    }
   ],
   "source": [
    "from functions.extract_text_from_pdf import extract_text_from_pdf\n",
    "\n",
    "extracted_text = extract_text_from_pdf(filename)\n",
    "print(extracted_text)"
   ]
  },
  {
   "cell_type": "markdown",
   "id": "f8b91c81",
   "metadata": {},
   "source": [
    "Now ask the summerize correcly the infomation extracted from the extracted text"
   ]
  },
  {
   "cell_type": "code",
   "execution_count": 8,
   "id": "c463c114",
   "metadata": {},
   "outputs": [],
   "source": [
    "from functions.prompt_openai import prompt_acta_de_la_junta_general\n",
    "# gethhh all the information from the files that have the string 'Acta de la junta General'\n",
    "# filter filenames\n",
    "pdfs = [ pdf for pdf in pdf_names if 'Acta de la Junta General' in pdf ]\n",
    "\n",
    "# for pdf in pdfs:\n",
    "    #filename = pdfs_path + pdf\n",
    "    #print(filename)\n",
    "    #extracted_text = extract_text_from_pdf(filename)\n",
    "    #data = prompt_acta_de_la_junta_general(extracted_text)\n",
    "    #print(data)"
   ]
  },
  {
   "cell_type": "code",
   "execution_count": 10,
   "id": "a3a84233",
   "metadata": {},
   "outputs": [
    {
     "name": "stdout",
     "output_type": "stream",
     "text": [
      "../storage/pdfs/1793173071001_DocumentosEconomicos_Balance  Estado de Situación Financiera_2021-12-31.pdf\n"
     ]
    }
   ],
   "source": [
    "from functions.parse_supercias_forms import parse_pdf\n",
    "# gethhh all the information from the files that have the string 'Acta de la junta General'\n",
    "# filter filenames\n",
    "pdfs = [ pdf for pdf in pdf_names if 'Balance  Estado de Situación Financiera' in pdf ]\n",
    "\n",
    "for pdf in pdfs:\n",
    "    filename = pdfs_path + pdf\n",
    "    print(filename)\n",
    "    extracted_data = parse_pdf(filename)\n",
    "    print(extracted_data)"
   ]
  },
  {
   "cell_type": "markdown",
   "id": "5e5cd01e",
   "metadata": {},
   "source": [
    "now let iterate trhough every document to see if we can get a infomration fo the company as a whole"
   ]
  },
  {
   "cell_type": "code",
   "execution_count": null,
   "id": "bb3be721",
   "metadata": {},
   "outputs": [
    {
     "data": {
      "text/plain": [
       "' \\nanalysis = db[\\'analysis\\']\\n# for every pdf file in company\\nfor pdf in pdf_names:\\n    try:\\n        # read the file\\n        write_to_disk(pdf)\\n        print(f\\'processing {pdf}...\\')\\n        # extract text\\n        text = extract_text_from_image_pdf(pdf)\\n        if(len(text) > 16385):\\n            # too big for openai\\n            print(\\'text too big for openai\\')\\n            continue\\n        # intepret the data with the llm\\n        response = prompt_openai({\\n            \"role\": \"system\", \\n            \"content\": \"Give me all the information you can aquire from this text. give it in json file \" + pdf + \": \\n\" + text, \\n        })\\n        print(\\'response:\\', response)\\n        # save the data\\n        analysis.insert_one({ \\'filename\\': pdf, \\'text_extracted\\': text, \\'interpretation\\': response })\\n    # catch any errors\\n    except Exception as e:\\n        print(f\\'Error processing {pdf}: {e}\\')\\n'"
      ]
     },
     "execution_count": 9,
     "metadata": {},
     "output_type": "execute_result"
    }
   ],
   "source": [
    "''' \n",
    "analysis = db['analysis']\n",
    "# for every pdf file in company\n",
    "for pdf in pdf_names:\n",
    "    try:\n",
    "        # read the file\n",
    "        write_to_disk(pdf)\n",
    "        print(f'processing {pdf}...')\n",
    "        # extract text\n",
    "        text = extract_text_from_image_pdf(pdf)\n",
    "        if(len(text) > 16385):\n",
    "            # too big for openai\n",
    "            print('text too big for openai')\n",
    "            continue\n",
    "        # intepret the data with the llm\n",
    "        response = prompt_openai({\n",
    "            \"role\": \"system\", \n",
    "            \"content\": \"Give me all the information you can aquire from this text. give it in json file \" + pdf + \": \\n\" + text, \n",
    "        })\n",
    "        print('response:', response)\n",
    "        # save the data\n",
    "        analysis.insert_one({ 'filename': pdf, 'text_extracted': text, 'interpretation': response })\n",
    "    # catch any errors\n",
    "    except Exception as e:\n",
    "        print(f'Error processing {pdf}: {e}')\n",
    "'''\n"
   ]
  }
 ],
 "metadata": {
  "kernelspec": {
   "display_name": "Python 3 (ipykernel)",
   "language": "python",
   "name": "python3"
  },
  "language_info": {
   "codemirror_mode": {
    "name": "ipython",
    "version": 3
   },
   "file_extension": ".py",
   "mimetype": "text/x-python",
   "name": "python",
   "nbconvert_exporter": "python",
   "pygments_lexer": "ipython3",
   "version": "3.12.5"
  }
 },
 "nbformat": 4,
 "nbformat_minor": 5
}
