{
 "cells": [
  {
   "cell_type": "markdown",
   "id": "fb037365",
   "metadata": {},
   "source": [
    "# Extract the data from of the balances finacieros in Mongodb"
   ]
  },
  {
   "cell_type": "code",
   "execution_count": 7,
   "id": "d5aee10a",
   "metadata": {},
   "outputs": [],
   "source": [
    "packages = ['pymongo', 'pandas', 'altair', 'pandas']\n",
    "for package in packages:\n",
    "    try:\n",
    "        __import__(package)\n",
    "    except ImportError:\n",
    "        !pip install {package}\n",
    "\n",
    "import os\n",
    "from pymongo import MongoClient\n",
    "import pandas as pd\n",
    "\n",
    "\n",
    "#endpoint = '10.0.10.5:27017'\n",
    "endpoint = '192.168.1.10:27017'\n",
    "database = 'supercias'\n",
    "collection = 'balances_economicos'\n",
    "\n",
    "# Connect to MongoDB\n",
    "db = MongoClient('mongodb://'+endpoint)[database]\n",
    "collection = db[collection]\n",
    "collection_list = list(collection.find())\n",
    "\n",
    "# find one\n",
    "balances = pd.DataFrame(collection_list)"
   ]
  },
  {
   "cell_type": "code",
   "execution_count": 6,
   "id": "9284b9b2",
   "metadata": {},
   "outputs": [
    {
     "name": "stdout",
     "output_type": "stream",
     "text": [
      "Index(['_id', 'RAZÓN SOCIAL', 'DIRECCIÓN', 'EXPEDIENTE', 'RUC', 'AÑO',\n",
      "       'FECHA DE LA JUNTA QUE APROBÓ LOS ESTADOS FINANCIEROS (DD/MM/AAA)',\n",
      "       'FORMULARIO', 'ACTIVO', 'ACTIVO CORRIENTE',\n",
      "       ...\n",
      "       '(INCREMENTO) DISMINUCIÓN EN OTROS ACTIVOS',\n",
      "       'INCREMENTO  (DISMINUCIÓN) EN CUENTAS POR PAGAR COMERCIALES',\n",
      "       'INCREMENTO  (DISMINUCIÓN) EN OTRAS CUENTAS POR PAGAR',\n",
      "       'INCREMENTO  (DISMINUCIÓN) EN BENEFICIOS EMPLEADOS',\n",
      "       'INCREMENTO  (DISMINUCIÓN) EN ANTICIPOS DE CLIENTES',\n",
      "       'INCREMENTO  (DISMINUCIÓN) EN OTROS PASIVOS',\n",
      "       'FLUJOS DE EFECTIVO NETOS PROCEDENTES DE (UTILIZADOS EN) ACTIVIDADES DE OPERACIÓN',\n",
      "       'CERTIFICO  Que  el  presente  balance  ha  sido  enviado  electrónicamente  por  el  Representante  Legal  en  virtud  de  una  Declaración  de  Responsabilidad reproducción  del  documento  que  consta  en  nuestros firmada  por  éste  que  obvia',\n",
      "       '999899.00', 'filename'],\n",
      "      dtype='object', length=356)\n"
     ]
    }
   ],
   "source": [
    "print(balances.columns)"
   ]
  }
 ],
 "metadata": {
  "kernelspec": {
   "display_name": "Python 3 (ipykernel)",
   "language": "python",
   "name": "python3"
  },
  "language_info": {
   "codemirror_mode": {
    "name": "ipython",
    "version": 3
   },
   "file_extension": ".py",
   "mimetype": "text/x-python",
   "name": "python",
   "nbconvert_exporter": "python",
   "pygments_lexer": "ipython3",
   "version": "3.12.4"
  }
 },
 "nbformat": 4,
 "nbformat_minor": 5
}
